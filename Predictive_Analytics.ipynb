{
  "nbformat": 4,
  "nbformat_minor": 0,
  "metadata": {
    "colab": {
      "provenance": [],
      "collapsed_sections": []
    },
    "kernelspec": {
      "name": "python3",
      "display_name": "Python 3"
    },
    "language_info": {
      "name": "python"
    }
  },
  "cells": [
    {
      "cell_type": "markdown",
      "source": [
        "# Download Datasets"
      ],
      "metadata": {
        "id": "haAVZFcVUrZx"
      }
    },
    {
      "cell_type": "markdown",
      "source": [
        "Tutorial download kaggle dataset melalui google colab\n",
        "\n",
        "https://www.analyticsvidhya.com/blog/2021/06/how-to-load-kaggle-datasets-directly-into-google-colab/"
      ],
      "metadata": {
        "id": "dwQCSTVAUxzA"
      }
    },
    {
      "cell_type": "markdown",
      "source": [
        "Install package `kaggle` untuk mendownload dataset melalui kaggle"
      ],
      "metadata": {
        "id": "s2pHZ48fJYgv"
      }
    },
    {
      "cell_type": "code",
      "source": [
        "! pip install kaggle"
      ],
      "metadata": {
        "colab": {
          "base_uri": "https://localhost:8080/"
        },
        "id": "a5mb7RMUO7pz",
        "outputId": "57ded86a-f58f-43ce-afa0-05b7d29f7e67"
      },
      "execution_count": null,
      "outputs": [
        {
          "output_type": "stream",
          "name": "stdout",
          "text": [
            "Looking in indexes: https://pypi.org/simple, https://us-python.pkg.dev/colab-wheels/public/simple/\n",
            "Requirement already satisfied: kaggle in /usr/local/lib/python3.7/dist-packages (1.5.12)\n",
            "Requirement already satisfied: requests in /usr/local/lib/python3.7/dist-packages (from kaggle) (2.23.0)\n",
            "Requirement already satisfied: python-slugify in /usr/local/lib/python3.7/dist-packages (from kaggle) (6.1.2)\n",
            "Requirement already satisfied: urllib3 in /usr/local/lib/python3.7/dist-packages (from kaggle) (1.24.3)\n",
            "Requirement already satisfied: six>=1.10 in /usr/local/lib/python3.7/dist-packages (from kaggle) (1.15.0)\n",
            "Requirement already satisfied: certifi in /usr/local/lib/python3.7/dist-packages (from kaggle) (2022.6.15)\n",
            "Requirement already satisfied: python-dateutil in /usr/local/lib/python3.7/dist-packages (from kaggle) (2.8.2)\n",
            "Requirement already satisfied: tqdm in /usr/local/lib/python3.7/dist-packages (from kaggle) (4.64.1)\n",
            "Requirement already satisfied: text-unidecode>=1.3 in /usr/local/lib/python3.7/dist-packages (from python-slugify->kaggle) (1.3)\n",
            "Requirement already satisfied: idna<3,>=2.5 in /usr/local/lib/python3.7/dist-packages (from requests->kaggle) (2.10)\n",
            "Requirement already satisfied: chardet<4,>=3.0.2 in /usr/local/lib/python3.7/dist-packages (from requests->kaggle) (3.0.4)\n"
          ]
        }
      ]
    },
    {
      "cell_type": "markdown",
      "source": [
        "Upload `kaggle.json` yang didapatkan dari API token di akun kaggle masing masing"
      ],
      "metadata": {
        "id": "UING7j-WJiQL"
      }
    },
    {
      "cell_type": "code",
      "source": [
        "from google.colab import files\n",
        "uploaded = files.upload()"
      ],
      "metadata": {
        "colab": {
          "base_uri": "https://localhost:8080/",
          "height": 38
        },
        "id": "CdrurhiwO9oS",
        "outputId": "0c665896-4760-4c70-9a47-bbef544ade82"
      },
      "execution_count": null,
      "outputs": [
        {
          "output_type": "display_data",
          "data": {
            "text/plain": [
              "<IPython.core.display.HTML object>"
            ],
            "text/html": [
              "\n",
              "     <input type=\"file\" id=\"files-d9652aa0-eeb0-42b8-bf80-19a7ba940bed\" name=\"files[]\" multiple disabled\n",
              "        style=\"border:none\" />\n",
              "     <output id=\"result-d9652aa0-eeb0-42b8-bf80-19a7ba940bed\">\n",
              "      Upload widget is only available when the cell has been executed in the\n",
              "      current browser session. Please rerun this cell to enable.\n",
              "      </output>\n",
              "      <script>// Copyright 2017 Google LLC\n",
              "//\n",
              "// Licensed under the Apache License, Version 2.0 (the \"License\");\n",
              "// you may not use this file except in compliance with the License.\n",
              "// You may obtain a copy of the License at\n",
              "//\n",
              "//      http://www.apache.org/licenses/LICENSE-2.0\n",
              "//\n",
              "// Unless required by applicable law or agreed to in writing, software\n",
              "// distributed under the License is distributed on an \"AS IS\" BASIS,\n",
              "// WITHOUT WARRANTIES OR CONDITIONS OF ANY KIND, either express or implied.\n",
              "// See the License for the specific language governing permissions and\n",
              "// limitations under the License.\n",
              "\n",
              "/**\n",
              " * @fileoverview Helpers for google.colab Python module.\n",
              " */\n",
              "(function(scope) {\n",
              "function span(text, styleAttributes = {}) {\n",
              "  const element = document.createElement('span');\n",
              "  element.textContent = text;\n",
              "  for (const key of Object.keys(styleAttributes)) {\n",
              "    element.style[key] = styleAttributes[key];\n",
              "  }\n",
              "  return element;\n",
              "}\n",
              "\n",
              "// Max number of bytes which will be uploaded at a time.\n",
              "const MAX_PAYLOAD_SIZE = 100 * 1024;\n",
              "\n",
              "function _uploadFiles(inputId, outputId) {\n",
              "  const steps = uploadFilesStep(inputId, outputId);\n",
              "  const outputElement = document.getElementById(outputId);\n",
              "  // Cache steps on the outputElement to make it available for the next call\n",
              "  // to uploadFilesContinue from Python.\n",
              "  outputElement.steps = steps;\n",
              "\n",
              "  return _uploadFilesContinue(outputId);\n",
              "}\n",
              "\n",
              "// This is roughly an async generator (not supported in the browser yet),\n",
              "// where there are multiple asynchronous steps and the Python side is going\n",
              "// to poll for completion of each step.\n",
              "// This uses a Promise to block the python side on completion of each step,\n",
              "// then passes the result of the previous step as the input to the next step.\n",
              "function _uploadFilesContinue(outputId) {\n",
              "  const outputElement = document.getElementById(outputId);\n",
              "  const steps = outputElement.steps;\n",
              "\n",
              "  const next = steps.next(outputElement.lastPromiseValue);\n",
              "  return Promise.resolve(next.value.promise).then((value) => {\n",
              "    // Cache the last promise value to make it available to the next\n",
              "    // step of the generator.\n",
              "    outputElement.lastPromiseValue = value;\n",
              "    return next.value.response;\n",
              "  });\n",
              "}\n",
              "\n",
              "/**\n",
              " * Generator function which is called between each async step of the upload\n",
              " * process.\n",
              " * @param {string} inputId Element ID of the input file picker element.\n",
              " * @param {string} outputId Element ID of the output display.\n",
              " * @return {!Iterable<!Object>} Iterable of next steps.\n",
              " */\n",
              "function* uploadFilesStep(inputId, outputId) {\n",
              "  const inputElement = document.getElementById(inputId);\n",
              "  inputElement.disabled = false;\n",
              "\n",
              "  const outputElement = document.getElementById(outputId);\n",
              "  outputElement.innerHTML = '';\n",
              "\n",
              "  const pickedPromise = new Promise((resolve) => {\n",
              "    inputElement.addEventListener('change', (e) => {\n",
              "      resolve(e.target.files);\n",
              "    });\n",
              "  });\n",
              "\n",
              "  const cancel = document.createElement('button');\n",
              "  inputElement.parentElement.appendChild(cancel);\n",
              "  cancel.textContent = 'Cancel upload';\n",
              "  const cancelPromise = new Promise((resolve) => {\n",
              "    cancel.onclick = () => {\n",
              "      resolve(null);\n",
              "    };\n",
              "  });\n",
              "\n",
              "  // Wait for the user to pick the files.\n",
              "  const files = yield {\n",
              "    promise: Promise.race([pickedPromise, cancelPromise]),\n",
              "    response: {\n",
              "      action: 'starting',\n",
              "    }\n",
              "  };\n",
              "\n",
              "  cancel.remove();\n",
              "\n",
              "  // Disable the input element since further picks are not allowed.\n",
              "  inputElement.disabled = true;\n",
              "\n",
              "  if (!files) {\n",
              "    return {\n",
              "      response: {\n",
              "        action: 'complete',\n",
              "      }\n",
              "    };\n",
              "  }\n",
              "\n",
              "  for (const file of files) {\n",
              "    const li = document.createElement('li');\n",
              "    li.append(span(file.name, {fontWeight: 'bold'}));\n",
              "    li.append(span(\n",
              "        `(${file.type || 'n/a'}) - ${file.size} bytes, ` +\n",
              "        `last modified: ${\n",
              "            file.lastModifiedDate ? file.lastModifiedDate.toLocaleDateString() :\n",
              "                                    'n/a'} - `));\n",
              "    const percent = span('0% done');\n",
              "    li.appendChild(percent);\n",
              "\n",
              "    outputElement.appendChild(li);\n",
              "\n",
              "    const fileDataPromise = new Promise((resolve) => {\n",
              "      const reader = new FileReader();\n",
              "      reader.onload = (e) => {\n",
              "        resolve(e.target.result);\n",
              "      };\n",
              "      reader.readAsArrayBuffer(file);\n",
              "    });\n",
              "    // Wait for the data to be ready.\n",
              "    let fileData = yield {\n",
              "      promise: fileDataPromise,\n",
              "      response: {\n",
              "        action: 'continue',\n",
              "      }\n",
              "    };\n",
              "\n",
              "    // Use a chunked sending to avoid message size limits. See b/62115660.\n",
              "    let position = 0;\n",
              "    do {\n",
              "      const length = Math.min(fileData.byteLength - position, MAX_PAYLOAD_SIZE);\n",
              "      const chunk = new Uint8Array(fileData, position, length);\n",
              "      position += length;\n",
              "\n",
              "      const base64 = btoa(String.fromCharCode.apply(null, chunk));\n",
              "      yield {\n",
              "        response: {\n",
              "          action: 'append',\n",
              "          file: file.name,\n",
              "          data: base64,\n",
              "        },\n",
              "      };\n",
              "\n",
              "      let percentDone = fileData.byteLength === 0 ?\n",
              "          100 :\n",
              "          Math.round((position / fileData.byteLength) * 100);\n",
              "      percent.textContent = `${percentDone}% done`;\n",
              "\n",
              "    } while (position < fileData.byteLength);\n",
              "  }\n",
              "\n",
              "  // All done.\n",
              "  yield {\n",
              "    response: {\n",
              "      action: 'complete',\n",
              "    }\n",
              "  };\n",
              "}\n",
              "\n",
              "scope.google = scope.google || {};\n",
              "scope.google.colab = scope.google.colab || {};\n",
              "scope.google.colab._files = {\n",
              "  _uploadFiles,\n",
              "  _uploadFilesContinue,\n",
              "};\n",
              "})(self);\n",
              "</script> "
            ]
          },
          "metadata": {}
        }
      ]
    },
    {
      "cell_type": "markdown",
      "source": [
        "Tambahkan `kaggle.json` kedalam source milik google colab agar package bisa mendownload dataset menggunakan akun dan API key milik Kaggle"
      ],
      "metadata": {
        "id": "4tTvNzl_JxoC"
      }
    },
    {
      "cell_type": "code",
      "source": [
        "! mkdir ~/.kaggle\n",
        "! cp kaggle.json ~/.kaggle/\n",
        "! chmod 600 ~/.kaggle/kaggle.json"
      ],
      "metadata": {
        "colab": {
          "base_uri": "https://localhost:8080/"
        },
        "id": "eDayTs0DPFLH",
        "outputId": "4c772d80-a5d9-4c53-b071-205f4ff224f4"
      },
      "execution_count": null,
      "outputs": [
        {
          "output_type": "stream",
          "name": "stdout",
          "text": [
            "mkdir: cannot create directory ‘/root/.kaggle’: File exists\n"
          ]
        }
      ]
    },
    {
      "cell_type": "markdown",
      "source": [
        "Download Dataset dengan menjalankan perintah dibawah :\n",
        "\n",
        "(link alternatif) :  \n",
        "https://www.kaggle.com/datasets/sid321axn/gold-price-prediction-dataset"
      ],
      "metadata": {
        "id": "dede0V66KRKy"
      }
    },
    {
      "cell_type": "code",
      "source": [
        "! kaggle datasets download sid321axn/gold-price-prediction-dataset"
      ],
      "metadata": {
        "colab": {
          "base_uri": "https://localhost:8080/"
        },
        "id": "s22X5p8gPPL6",
        "outputId": "a949e346-48d3-4287-d10d-3327609dc0b2"
      },
      "execution_count": null,
      "outputs": [
        {
          "output_type": "stream",
          "name": "stdout",
          "text": [
            "gold-price-prediction-dataset.zip: Skipping, found more recently modified local copy (use --force to force download)\n"
          ]
        }
      ]
    },
    {
      "cell_type": "markdown",
      "source": [
        "Unzip dataset"
      ],
      "metadata": {
        "id": "N5GXX27dKaWT"
      }
    },
    {
      "cell_type": "code",
      "source": [
        "! unzip gold-price-prediction-dataset.zip"
      ],
      "metadata": {
        "colab": {
          "base_uri": "https://localhost:8080/"
        },
        "id": "yA7qZMNNP4Yc",
        "outputId": "bc4f204e-d49f-4ae9-f5fe-0cd1a92dfffa"
      },
      "execution_count": null,
      "outputs": [
        {
          "output_type": "stream",
          "name": "stdout",
          "text": [
            "Archive:  gold-price-prediction-dataset.zip\n",
            "replace FINAL_USO.csv? [y]es, [n]o, [A]ll, [N]one, [r]ename: n\n"
          ]
        }
      ]
    },
    {
      "cell_type": "markdown",
      "source": [
        "# Import Library\n"
      ],
      "metadata": {
        "id": "FkVjDtfmUutR"
      }
    },
    {
      "cell_type": "markdown",
      "source": [
        "Import Library yang dibutuhkan pada proyek ini"
      ],
      "metadata": {
        "id": "4TKR-4mGKs5i"
      }
    },
    {
      "cell_type": "code",
      "source": [
        "# Import all required libraries\n",
        "import numpy as np\n",
        "import pandas as pd\n",
        "import tensorflow as tf\n",
        "import matplotlib\n",
        "import matplotlib.ticker as ticker\n",
        "import matplotlib.pyplot as plt\n",
        "import matplotlib.dates as mdates\n",
        "\n",
        "# Importing layers from keras. Use LSTM for input layer, and Dense for hidden and output layer\n",
        "from keras.layers import Dense, LSTM, Dropout\n",
        "from keras.models import Sequential\n",
        "\n",
        "# Import for splitting test and training data set\n",
        "from sklearn.preprocessing import MinMaxScaler\n",
        "from sklearn.model_selection import train_test_split\n",
        "import seaborn as sns\n",
        "\n",
        "# Import Adam Optimizers\n",
        "from tensorflow.keras.optimizers import Adam\n",
        "\n",
        "\n",
        "from keras.callbacks import  EarlyStopping"
      ],
      "metadata": {
        "id": "NO3ihfgxWdYZ"
      },
      "execution_count": null,
      "outputs": []
    },
    {
      "cell_type": "markdown",
      "source": [
        "# Data Understanding"
      ],
      "metadata": {
        "id": "PdpjbbTtVX-3"
      }
    },
    {
      "cell_type": "markdown",
      "source": [
        "Pada Submission ini, dataset diambil dari [Kaggle](https://www.kaggle.com/) dengan nama dataset [Gold Price Prediction Dataset](https://www.kaggle.com/datasets/sid321axn/gold-price-prediction-dataset)\n"
      ],
      "metadata": {
        "id": "odArO8AAVcNs"
      }
    },
    {
      "cell_type": "markdown",
      "source": [
        "Tampilkan dataset dalam bentuk tabel.\n",
        "\n",
        "Sesuai yang telah dijelaskan di `Readme.md`. Pada proyek ini menggunakan 6 Kolom termasuk kolom label yang digunakan untuk melakukan prediksi harga emas\n",
        "\n",
        "diantaranya kolom : `'Date'`, `'Open'`, `'High'`, `'Low'`,`'Close'`,`'Adj Close'` dan `'Volume'`"
      ],
      "metadata": {
        "id": "LNoErlFnK3fq"
      }
    },
    {
      "cell_type": "code",
      "source": [
        "df = pd.read_csv('/content/FINAL_USO.csv', parse_dates=True, squeeze=True)\n",
        "df = df[['Date', 'Open', 'High', 'Low','Close','Adj Close', 'Volume']]\n",
        "df.head()"
      ],
      "metadata": {
        "colab": {
          "base_uri": "https://localhost:8080/",
          "height": 206
        },
        "id": "OQ4sJLG_W8z0",
        "outputId": "b1962795-ef4e-4524-800c-f4d9bbcb86ac"
      },
      "execution_count": null,
      "outputs": [
        {
          "output_type": "execute_result",
          "data": {
            "text/plain": [
              "         Date        Open        High         Low       Close   Adj Close  \\\n",
              "0  2011-12-15  154.740005  154.949997  151.710007  152.330002  152.330002   \n",
              "1  2011-12-16  154.309998  155.369995  153.899994  155.229996  155.229996   \n",
              "2  2011-12-19  155.479996  155.860001  154.360001  154.869995  154.869995   \n",
              "3  2011-12-20  156.820007  157.429993  156.580002  156.979996  156.979996   \n",
              "4  2011-12-21  156.979996  157.529999  156.130005  157.160004  157.160004   \n",
              "\n",
              "     Volume  \n",
              "0  21521900  \n",
              "1  18124300  \n",
              "2  12547200  \n",
              "3   9136300  \n",
              "4  11996100  "
            ],
            "text/html": [
              "\n",
              "  <div id=\"df-6629d92f-7cdb-4f5c-93d4-65ebcb974ba6\">\n",
              "    <div class=\"colab-df-container\">\n",
              "      <div>\n",
              "<style scoped>\n",
              "    .dataframe tbody tr th:only-of-type {\n",
              "        vertical-align: middle;\n",
              "    }\n",
              "\n",
              "    .dataframe tbody tr th {\n",
              "        vertical-align: top;\n",
              "    }\n",
              "\n",
              "    .dataframe thead th {\n",
              "        text-align: right;\n",
              "    }\n",
              "</style>\n",
              "<table border=\"1\" class=\"dataframe\">\n",
              "  <thead>\n",
              "    <tr style=\"text-align: right;\">\n",
              "      <th></th>\n",
              "      <th>Date</th>\n",
              "      <th>Open</th>\n",
              "      <th>High</th>\n",
              "      <th>Low</th>\n",
              "      <th>Close</th>\n",
              "      <th>Adj Close</th>\n",
              "      <th>Volume</th>\n",
              "    </tr>\n",
              "  </thead>\n",
              "  <tbody>\n",
              "    <tr>\n",
              "      <th>0</th>\n",
              "      <td>2011-12-15</td>\n",
              "      <td>154.740005</td>\n",
              "      <td>154.949997</td>\n",
              "      <td>151.710007</td>\n",
              "      <td>152.330002</td>\n",
              "      <td>152.330002</td>\n",
              "      <td>21521900</td>\n",
              "    </tr>\n",
              "    <tr>\n",
              "      <th>1</th>\n",
              "      <td>2011-12-16</td>\n",
              "      <td>154.309998</td>\n",
              "      <td>155.369995</td>\n",
              "      <td>153.899994</td>\n",
              "      <td>155.229996</td>\n",
              "      <td>155.229996</td>\n",
              "      <td>18124300</td>\n",
              "    </tr>\n",
              "    <tr>\n",
              "      <th>2</th>\n",
              "      <td>2011-12-19</td>\n",
              "      <td>155.479996</td>\n",
              "      <td>155.860001</td>\n",
              "      <td>154.360001</td>\n",
              "      <td>154.869995</td>\n",
              "      <td>154.869995</td>\n",
              "      <td>12547200</td>\n",
              "    </tr>\n",
              "    <tr>\n",
              "      <th>3</th>\n",
              "      <td>2011-12-20</td>\n",
              "      <td>156.820007</td>\n",
              "      <td>157.429993</td>\n",
              "      <td>156.580002</td>\n",
              "      <td>156.979996</td>\n",
              "      <td>156.979996</td>\n",
              "      <td>9136300</td>\n",
              "    </tr>\n",
              "    <tr>\n",
              "      <th>4</th>\n",
              "      <td>2011-12-21</td>\n",
              "      <td>156.979996</td>\n",
              "      <td>157.529999</td>\n",
              "      <td>156.130005</td>\n",
              "      <td>157.160004</td>\n",
              "      <td>157.160004</td>\n",
              "      <td>11996100</td>\n",
              "    </tr>\n",
              "  </tbody>\n",
              "</table>\n",
              "</div>\n",
              "      <button class=\"colab-df-convert\" onclick=\"convertToInteractive('df-6629d92f-7cdb-4f5c-93d4-65ebcb974ba6')\"\n",
              "              title=\"Convert this dataframe to an interactive table.\"\n",
              "              style=\"display:none;\">\n",
              "        \n",
              "  <svg xmlns=\"http://www.w3.org/2000/svg\" height=\"24px\"viewBox=\"0 0 24 24\"\n",
              "       width=\"24px\">\n",
              "    <path d=\"M0 0h24v24H0V0z\" fill=\"none\"/>\n",
              "    <path d=\"M18.56 5.44l.94 2.06.94-2.06 2.06-.94-2.06-.94-.94-2.06-.94 2.06-2.06.94zm-11 1L8.5 8.5l.94-2.06 2.06-.94-2.06-.94L8.5 2.5l-.94 2.06-2.06.94zm10 10l.94 2.06.94-2.06 2.06-.94-2.06-.94-.94-2.06-.94 2.06-2.06.94z\"/><path d=\"M17.41 7.96l-1.37-1.37c-.4-.4-.92-.59-1.43-.59-.52 0-1.04.2-1.43.59L10.3 9.45l-7.72 7.72c-.78.78-.78 2.05 0 2.83L4 21.41c.39.39.9.59 1.41.59.51 0 1.02-.2 1.41-.59l7.78-7.78 2.81-2.81c.8-.78.8-2.07 0-2.86zM5.41 20L4 18.59l7.72-7.72 1.47 1.35L5.41 20z\"/>\n",
              "  </svg>\n",
              "      </button>\n",
              "      \n",
              "  <style>\n",
              "    .colab-df-container {\n",
              "      display:flex;\n",
              "      flex-wrap:wrap;\n",
              "      gap: 12px;\n",
              "    }\n",
              "\n",
              "    .colab-df-convert {\n",
              "      background-color: #E8F0FE;\n",
              "      border: none;\n",
              "      border-radius: 50%;\n",
              "      cursor: pointer;\n",
              "      display: none;\n",
              "      fill: #1967D2;\n",
              "      height: 32px;\n",
              "      padding: 0 0 0 0;\n",
              "      width: 32px;\n",
              "    }\n",
              "\n",
              "    .colab-df-convert:hover {\n",
              "      background-color: #E2EBFA;\n",
              "      box-shadow: 0px 1px 2px rgba(60, 64, 67, 0.3), 0px 1px 3px 1px rgba(60, 64, 67, 0.15);\n",
              "      fill: #174EA6;\n",
              "    }\n",
              "\n",
              "    [theme=dark] .colab-df-convert {\n",
              "      background-color: #3B4455;\n",
              "      fill: #D2E3FC;\n",
              "    }\n",
              "\n",
              "    [theme=dark] .colab-df-convert:hover {\n",
              "      background-color: #434B5C;\n",
              "      box-shadow: 0px 1px 3px 1px rgba(0, 0, 0, 0.15);\n",
              "      filter: drop-shadow(0px 1px 2px rgba(0, 0, 0, 0.3));\n",
              "      fill: #FFFFFF;\n",
              "    }\n",
              "  </style>\n",
              "\n",
              "      <script>\n",
              "        const buttonEl =\n",
              "          document.querySelector('#df-6629d92f-7cdb-4f5c-93d4-65ebcb974ba6 button.colab-df-convert');\n",
              "        buttonEl.style.display =\n",
              "          google.colab.kernel.accessAllowed ? 'block' : 'none';\n",
              "\n",
              "        async function convertToInteractive(key) {\n",
              "          const element = document.querySelector('#df-6629d92f-7cdb-4f5c-93d4-65ebcb974ba6');\n",
              "          const dataTable =\n",
              "            await google.colab.kernel.invokeFunction('convertToInteractive',\n",
              "                                                     [key], {});\n",
              "          if (!dataTable) return;\n",
              "\n",
              "          const docLinkHtml = 'Like what you see? Visit the ' +\n",
              "            '<a target=\"_blank\" href=https://colab.research.google.com/notebooks/data_table.ipynb>data table notebook</a>'\n",
              "            + ' to learn more about interactive tables.';\n",
              "          element.innerHTML = '';\n",
              "          dataTable['output_type'] = 'display_data';\n",
              "          await google.colab.output.renderOutput(dataTable, element);\n",
              "          const docLink = document.createElement('div');\n",
              "          docLink.innerHTML = docLinkHtml;\n",
              "          element.appendChild(docLink);\n",
              "        }\n",
              "      </script>\n",
              "    </div>\n",
              "  </div>\n",
              "  "
            ]
          },
          "metadata": {},
          "execution_count": 118
        }
      ]
    },
    {
      "cell_type": "markdown",
      "source": [
        "Berikut adalah total data dan _range_ tanggal dari dataset yang telah di _load_"
      ],
      "metadata": {
        "id": "IM-gDA5BLoJD"
      }
    },
    {
      "cell_type": "code",
      "source": [
        "print(\"Total Data : {} \\n\".format(len(df)))\n",
        "print(\"Date range from : {} to {}\".format(df.head(1)['Date'].values, df.tail(1)['Date'].values))"
      ],
      "metadata": {
        "colab": {
          "base_uri": "https://localhost:8080/"
        },
        "id": "i0wHwTATYJvP",
        "outputId": "1697150c-f314-4553-d336-2896c294fc40"
      },
      "execution_count": null,
      "outputs": [
        {
          "output_type": "stream",
          "name": "stdout",
          "text": [
            "Total Data : 1718 \n",
            "\n",
            "Date range from : ['2011-12-15'] to ['2018-12-31']\n"
          ]
        }
      ]
    },
    {
      "cell_type": "markdown",
      "source": [
        "Kode program dibawah digunakan untuk melihat informasi kolom dan juga melihat jumlah _record_ yang memiliki data"
      ],
      "metadata": {
        "id": "bZbILjTLMEu7"
      }
    },
    {
      "cell_type": "code",
      "source": [
        "df.info()"
      ],
      "metadata": {
        "colab": {
          "base_uri": "https://localhost:8080/"
        },
        "id": "bWi-BW0kYMs9",
        "outputId": "53f43191-a355-4c5f-d321-b7cd882eb73a"
      },
      "execution_count": null,
      "outputs": [
        {
          "output_type": "stream",
          "name": "stdout",
          "text": [
            "<class 'pandas.core.frame.DataFrame'>\n",
            "RangeIndex: 1718 entries, 0 to 1717\n",
            "Data columns (total 7 columns):\n",
            " #   Column     Non-Null Count  Dtype  \n",
            "---  ------     --------------  -----  \n",
            " 0   Date       1718 non-null   object \n",
            " 1   Open       1718 non-null   float64\n",
            " 2   High       1718 non-null   float64\n",
            " 3   Low        1718 non-null   float64\n",
            " 4   Close      1718 non-null   float64\n",
            " 5   Adj Close  1718 non-null   float64\n",
            " 6   Volume     1718 non-null   int64  \n",
            "dtypes: float64(5), int64(1), object(1)\n",
            "memory usage: 94.1+ KB\n"
          ]
        }
      ]
    },
    {
      "cell_type": "markdown",
      "source": [
        "apabila terdapat record yang nilainya dibawah panjang record (> 1718) maka hapus record tersebut dengan menjalankan kode program dibawah"
      ],
      "metadata": {
        "id": "rAjTEV1iMRg6"
      }
    },
    {
      "cell_type": "code",
      "source": [
        "df_new = df.dropna(how='any',axis=0) \n",
        "df_new"
      ],
      "metadata": {
        "colab": {
          "base_uri": "https://localhost:8080/",
          "height": 424
        },
        "id": "O7doyaPYYwln",
        "outputId": "d4bcace2-6948-40dd-e801-7b3e9660c287"
      },
      "execution_count": null,
      "outputs": [
        {
          "output_type": "execute_result",
          "data": {
            "text/plain": [
              "            Date        Open        High         Low       Close   Adj Close  \\\n",
              "0     2011-12-15  154.740005  154.949997  151.710007  152.330002  152.330002   \n",
              "1     2011-12-16  154.309998  155.369995  153.899994  155.229996  155.229996   \n",
              "2     2011-12-19  155.479996  155.860001  154.360001  154.869995  154.869995   \n",
              "3     2011-12-20  156.820007  157.429993  156.580002  156.979996  156.979996   \n",
              "4     2011-12-21  156.979996  157.529999  156.130005  157.160004  157.160004   \n",
              "...          ...         ...         ...         ...         ...         ...   \n",
              "1713  2018-12-24  119.570000  120.139999  119.570000  120.019997  120.019997   \n",
              "1714  2018-12-26  120.620003  121.000000  119.570000  119.660004  119.660004   \n",
              "1715  2018-12-27  120.570000  120.900002  120.139999  120.570000  120.570000   \n",
              "1716  2018-12-28  120.800003  121.080002  120.720001  121.059998  121.059998   \n",
              "1717  2018-12-31  120.980003  121.260002  120.830002  121.250000  121.250000   \n",
              "\n",
              "        Volume  \n",
              "0     21521900  \n",
              "1     18124300  \n",
              "2     12547200  \n",
              "3      9136300  \n",
              "4     11996100  \n",
              "...        ...  \n",
              "1713   9736400  \n",
              "1714  14293500  \n",
              "1715  11874400  \n",
              "1716   6864700  \n",
              "1717   8449400  \n",
              "\n",
              "[1718 rows x 7 columns]"
            ],
            "text/html": [
              "\n",
              "  <div id=\"df-e59da6a2-816e-4292-b6f2-d7ca3f90ec13\">\n",
              "    <div class=\"colab-df-container\">\n",
              "      <div>\n",
              "<style scoped>\n",
              "    .dataframe tbody tr th:only-of-type {\n",
              "        vertical-align: middle;\n",
              "    }\n",
              "\n",
              "    .dataframe tbody tr th {\n",
              "        vertical-align: top;\n",
              "    }\n",
              "\n",
              "    .dataframe thead th {\n",
              "        text-align: right;\n",
              "    }\n",
              "</style>\n",
              "<table border=\"1\" class=\"dataframe\">\n",
              "  <thead>\n",
              "    <tr style=\"text-align: right;\">\n",
              "      <th></th>\n",
              "      <th>Date</th>\n",
              "      <th>Open</th>\n",
              "      <th>High</th>\n",
              "      <th>Low</th>\n",
              "      <th>Close</th>\n",
              "      <th>Adj Close</th>\n",
              "      <th>Volume</th>\n",
              "    </tr>\n",
              "  </thead>\n",
              "  <tbody>\n",
              "    <tr>\n",
              "      <th>0</th>\n",
              "      <td>2011-12-15</td>\n",
              "      <td>154.740005</td>\n",
              "      <td>154.949997</td>\n",
              "      <td>151.710007</td>\n",
              "      <td>152.330002</td>\n",
              "      <td>152.330002</td>\n",
              "      <td>21521900</td>\n",
              "    </tr>\n",
              "    <tr>\n",
              "      <th>1</th>\n",
              "      <td>2011-12-16</td>\n",
              "      <td>154.309998</td>\n",
              "      <td>155.369995</td>\n",
              "      <td>153.899994</td>\n",
              "      <td>155.229996</td>\n",
              "      <td>155.229996</td>\n",
              "      <td>18124300</td>\n",
              "    </tr>\n",
              "    <tr>\n",
              "      <th>2</th>\n",
              "      <td>2011-12-19</td>\n",
              "      <td>155.479996</td>\n",
              "      <td>155.860001</td>\n",
              "      <td>154.360001</td>\n",
              "      <td>154.869995</td>\n",
              "      <td>154.869995</td>\n",
              "      <td>12547200</td>\n",
              "    </tr>\n",
              "    <tr>\n",
              "      <th>3</th>\n",
              "      <td>2011-12-20</td>\n",
              "      <td>156.820007</td>\n",
              "      <td>157.429993</td>\n",
              "      <td>156.580002</td>\n",
              "      <td>156.979996</td>\n",
              "      <td>156.979996</td>\n",
              "      <td>9136300</td>\n",
              "    </tr>\n",
              "    <tr>\n",
              "      <th>4</th>\n",
              "      <td>2011-12-21</td>\n",
              "      <td>156.979996</td>\n",
              "      <td>157.529999</td>\n",
              "      <td>156.130005</td>\n",
              "      <td>157.160004</td>\n",
              "      <td>157.160004</td>\n",
              "      <td>11996100</td>\n",
              "    </tr>\n",
              "    <tr>\n",
              "      <th>...</th>\n",
              "      <td>...</td>\n",
              "      <td>...</td>\n",
              "      <td>...</td>\n",
              "      <td>...</td>\n",
              "      <td>...</td>\n",
              "      <td>...</td>\n",
              "      <td>...</td>\n",
              "    </tr>\n",
              "    <tr>\n",
              "      <th>1713</th>\n",
              "      <td>2018-12-24</td>\n",
              "      <td>119.570000</td>\n",
              "      <td>120.139999</td>\n",
              "      <td>119.570000</td>\n",
              "      <td>120.019997</td>\n",
              "      <td>120.019997</td>\n",
              "      <td>9736400</td>\n",
              "    </tr>\n",
              "    <tr>\n",
              "      <th>1714</th>\n",
              "      <td>2018-12-26</td>\n",
              "      <td>120.620003</td>\n",
              "      <td>121.000000</td>\n",
              "      <td>119.570000</td>\n",
              "      <td>119.660004</td>\n",
              "      <td>119.660004</td>\n",
              "      <td>14293500</td>\n",
              "    </tr>\n",
              "    <tr>\n",
              "      <th>1715</th>\n",
              "      <td>2018-12-27</td>\n",
              "      <td>120.570000</td>\n",
              "      <td>120.900002</td>\n",
              "      <td>120.139999</td>\n",
              "      <td>120.570000</td>\n",
              "      <td>120.570000</td>\n",
              "      <td>11874400</td>\n",
              "    </tr>\n",
              "    <tr>\n",
              "      <th>1716</th>\n",
              "      <td>2018-12-28</td>\n",
              "      <td>120.800003</td>\n",
              "      <td>121.080002</td>\n",
              "      <td>120.720001</td>\n",
              "      <td>121.059998</td>\n",
              "      <td>121.059998</td>\n",
              "      <td>6864700</td>\n",
              "    </tr>\n",
              "    <tr>\n",
              "      <th>1717</th>\n",
              "      <td>2018-12-31</td>\n",
              "      <td>120.980003</td>\n",
              "      <td>121.260002</td>\n",
              "      <td>120.830002</td>\n",
              "      <td>121.250000</td>\n",
              "      <td>121.250000</td>\n",
              "      <td>8449400</td>\n",
              "    </tr>\n",
              "  </tbody>\n",
              "</table>\n",
              "<p>1718 rows × 7 columns</p>\n",
              "</div>\n",
              "      <button class=\"colab-df-convert\" onclick=\"convertToInteractive('df-e59da6a2-816e-4292-b6f2-d7ca3f90ec13')\"\n",
              "              title=\"Convert this dataframe to an interactive table.\"\n",
              "              style=\"display:none;\">\n",
              "        \n",
              "  <svg xmlns=\"http://www.w3.org/2000/svg\" height=\"24px\"viewBox=\"0 0 24 24\"\n",
              "       width=\"24px\">\n",
              "    <path d=\"M0 0h24v24H0V0z\" fill=\"none\"/>\n",
              "    <path d=\"M18.56 5.44l.94 2.06.94-2.06 2.06-.94-2.06-.94-.94-2.06-.94 2.06-2.06.94zm-11 1L8.5 8.5l.94-2.06 2.06-.94-2.06-.94L8.5 2.5l-.94 2.06-2.06.94zm10 10l.94 2.06.94-2.06 2.06-.94-2.06-.94-.94-2.06-.94 2.06-2.06.94z\"/><path d=\"M17.41 7.96l-1.37-1.37c-.4-.4-.92-.59-1.43-.59-.52 0-1.04.2-1.43.59L10.3 9.45l-7.72 7.72c-.78.78-.78 2.05 0 2.83L4 21.41c.39.39.9.59 1.41.59.51 0 1.02-.2 1.41-.59l7.78-7.78 2.81-2.81c.8-.78.8-2.07 0-2.86zM5.41 20L4 18.59l7.72-7.72 1.47 1.35L5.41 20z\"/>\n",
              "  </svg>\n",
              "      </button>\n",
              "      \n",
              "  <style>\n",
              "    .colab-df-container {\n",
              "      display:flex;\n",
              "      flex-wrap:wrap;\n",
              "      gap: 12px;\n",
              "    }\n",
              "\n",
              "    .colab-df-convert {\n",
              "      background-color: #E8F0FE;\n",
              "      border: none;\n",
              "      border-radius: 50%;\n",
              "      cursor: pointer;\n",
              "      display: none;\n",
              "      fill: #1967D2;\n",
              "      height: 32px;\n",
              "      padding: 0 0 0 0;\n",
              "      width: 32px;\n",
              "    }\n",
              "\n",
              "    .colab-df-convert:hover {\n",
              "      background-color: #E2EBFA;\n",
              "      box-shadow: 0px 1px 2px rgba(60, 64, 67, 0.3), 0px 1px 3px 1px rgba(60, 64, 67, 0.15);\n",
              "      fill: #174EA6;\n",
              "    }\n",
              "\n",
              "    [theme=dark] .colab-df-convert {\n",
              "      background-color: #3B4455;\n",
              "      fill: #D2E3FC;\n",
              "    }\n",
              "\n",
              "    [theme=dark] .colab-df-convert:hover {\n",
              "      background-color: #434B5C;\n",
              "      box-shadow: 0px 1px 3px 1px rgba(0, 0, 0, 0.15);\n",
              "      filter: drop-shadow(0px 1px 2px rgba(0, 0, 0, 0.3));\n",
              "      fill: #FFFFFF;\n",
              "    }\n",
              "  </style>\n",
              "\n",
              "      <script>\n",
              "        const buttonEl =\n",
              "          document.querySelector('#df-e59da6a2-816e-4292-b6f2-d7ca3f90ec13 button.colab-df-convert');\n",
              "        buttonEl.style.display =\n",
              "          google.colab.kernel.accessAllowed ? 'block' : 'none';\n",
              "\n",
              "        async function convertToInteractive(key) {\n",
              "          const element = document.querySelector('#df-e59da6a2-816e-4292-b6f2-d7ca3f90ec13');\n",
              "          const dataTable =\n",
              "            await google.colab.kernel.invokeFunction('convertToInteractive',\n",
              "                                                     [key], {});\n",
              "          if (!dataTable) return;\n",
              "\n",
              "          const docLinkHtml = 'Like what you see? Visit the ' +\n",
              "            '<a target=\"_blank\" href=https://colab.research.google.com/notebooks/data_table.ipynb>data table notebook</a>'\n",
              "            + ' to learn more about interactive tables.';\n",
              "          element.innerHTML = '';\n",
              "          dataTable['output_type'] = 'display_data';\n",
              "          await google.colab.output.renderOutput(dataTable, element);\n",
              "          const docLink = document.createElement('div');\n",
              "          docLink.innerHTML = docLinkHtml;\n",
              "          element.appendChild(docLink);\n",
              "        }\n",
              "      </script>\n",
              "    </div>\n",
              "  </div>\n",
              "  "
            ]
          },
          "metadata": {},
          "execution_count": 121
        }
      ]
    },
    {
      "cell_type": "markdown",
      "source": [
        "Kode program dibawah digunakan untuk menampilan statistik deskriptif mencakup statistik yang merangkum kecenderungan sentral, dispersi, dan bentuk distribusi himpunan data"
      ],
      "metadata": {
        "id": "ASng1M0QMn8L"
      }
    },
    {
      "cell_type": "code",
      "source": [
        "df_new.describe()"
      ],
      "metadata": {
        "colab": {
          "base_uri": "https://localhost:8080/",
          "height": 300
        },
        "id": "BIIzz0aPYziR",
        "outputId": "518f41ec-62b4-4865-a0cc-84ee64ee16dd"
      },
      "execution_count": null,
      "outputs": [
        {
          "output_type": "execute_result",
          "data": {
            "text/plain": [
              "              Open         High          Low        Close    Adj Close  \\\n",
              "count  1718.000000  1718.000000  1718.000000  1718.000000  1718.000000   \n",
              "mean    127.323434   127.854237   126.777695   127.319482   127.319482   \n",
              "std      17.526993    17.631189    17.396513    17.536269    17.536269   \n",
              "min     100.919998   100.989998   100.230003   100.500000   100.500000   \n",
              "25%     116.220001   116.540001   115.739998   116.052502   116.052502   \n",
              "50%     121.915001   122.325001   121.369999   121.795002   121.795002   \n",
              "75%     128.427494   129.087498   127.840001   128.470001   128.470001   \n",
              "max     173.199997   174.070007   172.919998   173.610001   173.610001   \n",
              "\n",
              "             Volume  \n",
              "count  1.718000e+03  \n",
              "mean   8.446327e+06  \n",
              "std    4.920731e+06  \n",
              "min    1.501600e+06  \n",
              "25%    5.412925e+06  \n",
              "50%    7.483900e+06  \n",
              "75%    1.020795e+07  \n",
              "max    9.380420e+07  "
            ],
            "text/html": [
              "\n",
              "  <div id=\"df-728b4648-7f78-40cb-b721-eccbf1ff03dd\">\n",
              "    <div class=\"colab-df-container\">\n",
              "      <div>\n",
              "<style scoped>\n",
              "    .dataframe tbody tr th:only-of-type {\n",
              "        vertical-align: middle;\n",
              "    }\n",
              "\n",
              "    .dataframe tbody tr th {\n",
              "        vertical-align: top;\n",
              "    }\n",
              "\n",
              "    .dataframe thead th {\n",
              "        text-align: right;\n",
              "    }\n",
              "</style>\n",
              "<table border=\"1\" class=\"dataframe\">\n",
              "  <thead>\n",
              "    <tr style=\"text-align: right;\">\n",
              "      <th></th>\n",
              "      <th>Open</th>\n",
              "      <th>High</th>\n",
              "      <th>Low</th>\n",
              "      <th>Close</th>\n",
              "      <th>Adj Close</th>\n",
              "      <th>Volume</th>\n",
              "    </tr>\n",
              "  </thead>\n",
              "  <tbody>\n",
              "    <tr>\n",
              "      <th>count</th>\n",
              "      <td>1718.000000</td>\n",
              "      <td>1718.000000</td>\n",
              "      <td>1718.000000</td>\n",
              "      <td>1718.000000</td>\n",
              "      <td>1718.000000</td>\n",
              "      <td>1.718000e+03</td>\n",
              "    </tr>\n",
              "    <tr>\n",
              "      <th>mean</th>\n",
              "      <td>127.323434</td>\n",
              "      <td>127.854237</td>\n",
              "      <td>126.777695</td>\n",
              "      <td>127.319482</td>\n",
              "      <td>127.319482</td>\n",
              "      <td>8.446327e+06</td>\n",
              "    </tr>\n",
              "    <tr>\n",
              "      <th>std</th>\n",
              "      <td>17.526993</td>\n",
              "      <td>17.631189</td>\n",
              "      <td>17.396513</td>\n",
              "      <td>17.536269</td>\n",
              "      <td>17.536269</td>\n",
              "      <td>4.920731e+06</td>\n",
              "    </tr>\n",
              "    <tr>\n",
              "      <th>min</th>\n",
              "      <td>100.919998</td>\n",
              "      <td>100.989998</td>\n",
              "      <td>100.230003</td>\n",
              "      <td>100.500000</td>\n",
              "      <td>100.500000</td>\n",
              "      <td>1.501600e+06</td>\n",
              "    </tr>\n",
              "    <tr>\n",
              "      <th>25%</th>\n",
              "      <td>116.220001</td>\n",
              "      <td>116.540001</td>\n",
              "      <td>115.739998</td>\n",
              "      <td>116.052502</td>\n",
              "      <td>116.052502</td>\n",
              "      <td>5.412925e+06</td>\n",
              "    </tr>\n",
              "    <tr>\n",
              "      <th>50%</th>\n",
              "      <td>121.915001</td>\n",
              "      <td>122.325001</td>\n",
              "      <td>121.369999</td>\n",
              "      <td>121.795002</td>\n",
              "      <td>121.795002</td>\n",
              "      <td>7.483900e+06</td>\n",
              "    </tr>\n",
              "    <tr>\n",
              "      <th>75%</th>\n",
              "      <td>128.427494</td>\n",
              "      <td>129.087498</td>\n",
              "      <td>127.840001</td>\n",
              "      <td>128.470001</td>\n",
              "      <td>128.470001</td>\n",
              "      <td>1.020795e+07</td>\n",
              "    </tr>\n",
              "    <tr>\n",
              "      <th>max</th>\n",
              "      <td>173.199997</td>\n",
              "      <td>174.070007</td>\n",
              "      <td>172.919998</td>\n",
              "      <td>173.610001</td>\n",
              "      <td>173.610001</td>\n",
              "      <td>9.380420e+07</td>\n",
              "    </tr>\n",
              "  </tbody>\n",
              "</table>\n",
              "</div>\n",
              "      <button class=\"colab-df-convert\" onclick=\"convertToInteractive('df-728b4648-7f78-40cb-b721-eccbf1ff03dd')\"\n",
              "              title=\"Convert this dataframe to an interactive table.\"\n",
              "              style=\"display:none;\">\n",
              "        \n",
              "  <svg xmlns=\"http://www.w3.org/2000/svg\" height=\"24px\"viewBox=\"0 0 24 24\"\n",
              "       width=\"24px\">\n",
              "    <path d=\"M0 0h24v24H0V0z\" fill=\"none\"/>\n",
              "    <path d=\"M18.56 5.44l.94 2.06.94-2.06 2.06-.94-2.06-.94-.94-2.06-.94 2.06-2.06.94zm-11 1L8.5 8.5l.94-2.06 2.06-.94-2.06-.94L8.5 2.5l-.94 2.06-2.06.94zm10 10l.94 2.06.94-2.06 2.06-.94-2.06-.94-.94-2.06-.94 2.06-2.06.94z\"/><path d=\"M17.41 7.96l-1.37-1.37c-.4-.4-.92-.59-1.43-.59-.52 0-1.04.2-1.43.59L10.3 9.45l-7.72 7.72c-.78.78-.78 2.05 0 2.83L4 21.41c.39.39.9.59 1.41.59.51 0 1.02-.2 1.41-.59l7.78-7.78 2.81-2.81c.8-.78.8-2.07 0-2.86zM5.41 20L4 18.59l7.72-7.72 1.47 1.35L5.41 20z\"/>\n",
              "  </svg>\n",
              "      </button>\n",
              "      \n",
              "  <style>\n",
              "    .colab-df-container {\n",
              "      display:flex;\n",
              "      flex-wrap:wrap;\n",
              "      gap: 12px;\n",
              "    }\n",
              "\n",
              "    .colab-df-convert {\n",
              "      background-color: #E8F0FE;\n",
              "      border: none;\n",
              "      border-radius: 50%;\n",
              "      cursor: pointer;\n",
              "      display: none;\n",
              "      fill: #1967D2;\n",
              "      height: 32px;\n",
              "      padding: 0 0 0 0;\n",
              "      width: 32px;\n",
              "    }\n",
              "\n",
              "    .colab-df-convert:hover {\n",
              "      background-color: #E2EBFA;\n",
              "      box-shadow: 0px 1px 2px rgba(60, 64, 67, 0.3), 0px 1px 3px 1px rgba(60, 64, 67, 0.15);\n",
              "      fill: #174EA6;\n",
              "    }\n",
              "\n",
              "    [theme=dark] .colab-df-convert {\n",
              "      background-color: #3B4455;\n",
              "      fill: #D2E3FC;\n",
              "    }\n",
              "\n",
              "    [theme=dark] .colab-df-convert:hover {\n",
              "      background-color: #434B5C;\n",
              "      box-shadow: 0px 1px 3px 1px rgba(0, 0, 0, 0.15);\n",
              "      filter: drop-shadow(0px 1px 2px rgba(0, 0, 0, 0.3));\n",
              "      fill: #FFFFFF;\n",
              "    }\n",
              "  </style>\n",
              "\n",
              "      <script>\n",
              "        const buttonEl =\n",
              "          document.querySelector('#df-728b4648-7f78-40cb-b721-eccbf1ff03dd button.colab-df-convert');\n",
              "        buttonEl.style.display =\n",
              "          google.colab.kernel.accessAllowed ? 'block' : 'none';\n",
              "\n",
              "        async function convertToInteractive(key) {\n",
              "          const element = document.querySelector('#df-728b4648-7f78-40cb-b721-eccbf1ff03dd');\n",
              "          const dataTable =\n",
              "            await google.colab.kernel.invokeFunction('convertToInteractive',\n",
              "                                                     [key], {});\n",
              "          if (!dataTable) return;\n",
              "\n",
              "          const docLinkHtml = 'Like what you see? Visit the ' +\n",
              "            '<a target=\"_blank\" href=https://colab.research.google.com/notebooks/data_table.ipynb>data table notebook</a>'\n",
              "            + ' to learn more about interactive tables.';\n",
              "          element.innerHTML = '';\n",
              "          dataTable['output_type'] = 'display_data';\n",
              "          await google.colab.output.renderOutput(dataTable, element);\n",
              "          const docLink = document.createElement('div');\n",
              "          docLink.innerHTML = docLinkHtml;\n",
              "          element.appendChild(docLink);\n",
              "        }\n",
              "      </script>\n",
              "    </div>\n",
              "  </div>\n",
              "  "
            ]
          },
          "metadata": {},
          "execution_count": 122
        }
      ]
    },
    {
      "cell_type": "markdown",
      "source": [
        "Rubah format tanggal yang sebelumnya masih `text` / `string` menjadi format `date`"
      ],
      "metadata": {
        "id": "EBqB6c3cMvTU"
      }
    },
    {
      "cell_type": "code",
      "source": [
        "df_new['Date'] = pd.to_datetime(df_new['Date'] , format='%Y-%m-%d')\n",
        "df_new['Date']"
      ],
      "metadata": {
        "colab": {
          "base_uri": "https://localhost:8080/"
        },
        "id": "bzFRdQgEY2lQ",
        "outputId": "aac188e8-6489-4a34-cdc8-a232dc539868"
      },
      "execution_count": null,
      "outputs": [
        {
          "output_type": "execute_result",
          "data": {
            "text/plain": [
              "0      2011-12-15\n",
              "1      2011-12-16\n",
              "2      2011-12-19\n",
              "3      2011-12-20\n",
              "4      2011-12-21\n",
              "          ...    \n",
              "1713   2018-12-24\n",
              "1714   2018-12-26\n",
              "1715   2018-12-27\n",
              "1716   2018-12-28\n",
              "1717   2018-12-31\n",
              "Name: Date, Length: 1718, dtype: datetime64[ns]"
            ]
          },
          "metadata": {},
          "execution_count": 123
        }
      ]
    },
    {
      "cell_type": "markdown",
      "source": [
        "Tampilkan visualisasi dalam bentuk grafik dengan `y-axis` berisi kolom `'Open'`, `'Close'`, `'High'` dan nilai `x-axis` dengan nilai `'Date'`"
      ],
      "metadata": {
        "id": "hrsDh5WUM8_m"
      }
    },
    {
      "cell_type": "code",
      "source": [
        "visual_plot =df_new[['Date','Close', 'Open', 'High']]\n",
        "\n",
        "plt.figure(figsize=(20,10))\n",
        "\n",
        "sns.lineplot(y=visual_plot['Open'], color=\"c\", x=visual_plot['Date'])\n",
        "sns.lineplot(y=visual_plot['Close'], color=\"m\", x=visual_plot['Date'])\n",
        "sns.lineplot(y=visual_plot['High'], color=\"y\", x=visual_plot['Date'])\n",
        "\n",
        "plt.xlabel('Tahun', fontsize=20)\n",
        "plt.ylabel('Harga (Dolar)', fontsize=20)\n",
        "plt.legend(['Open','Close','High'], loc='upper right')"
      ],
      "metadata": {
        "colab": {
          "base_uri": "https://localhost:8080/",
          "height": 632
        },
        "id": "HGDm3aufZBki",
        "outputId": "0a4a23f8-19c9-4a5c-a45b-9a1e5013edc2"
      },
      "execution_count": null,
      "outputs": [
        {
          "output_type": "execute_result",
          "data": {
            "text/plain": [
              "<matplotlib.legend.Legend at 0x7fb50f13d6d0>"
            ]
          },
          "metadata": {},
          "execution_count": 124
        },
        {
          "output_type": "display_data",
          "data": {
            "text/plain": [
              "<Figure size 1440x720 with 1 Axes>"
            ],
            "image/png": "[encoded data removed]"
          },
          "metadata": {
            "needs_background": "light"
          }
        }
      ]
    },
    {
      "cell_type": "markdown",
      "source": [
        "lihat korelasi antar fitur yang mempengaruhi pergerakan saham berdasarkan dataset yang ada"
      ],
      "metadata": {
        "id": "5LRdGBmcOl2k"
      }
    },
    {
      "cell_type": "code",
      "source": [
        "corr = df.corr()\n",
        "sns.heatmap(data=corr, annot=True, cmap='Blues', linewidths=0.5)"
      ],
      "metadata": {
        "colab": {
          "base_uri": "https://localhost:8080/",
          "height": 286
        },
        "id": "xxr8BbPvZfOa",
        "outputId": "5313e9fe-a480-4f5e-8031-919dc6d47667"
      },
      "execution_count": null,
      "outputs": [
        {
          "output_type": "execute_result",
          "data": {
            "text/plain": [
              "<matplotlib.axes._subplots.AxesSubplot at 0x7fb511fecf50>"
            ]
          },
          "metadata": {},
          "execution_count": 125
        },
        {
          "output_type": "display_data",
          "data": {
            "text/plain": [
              "<Figure size 432x288 with 2 Axes>"
            ],
            "image/png": "[encoded data removed]"
          },
          "metadata": {
            "needs_background": "light"
          }
        }
      ]
    },
    {
      "cell_type": "markdown",
      "source": [
        "# Data Preparation"
      ],
      "metadata": {
        "id": "7_h2wzkcsris"
      }
    },
    {
      "cell_type": "markdown",
      "source": [
        "Pastikan dataset terhindar dari _missing value_ dan terdapat duplikasi didalamnya"
      ],
      "metadata": {
        "id": "YcZ_bECoO0jt"
      }
    },
    {
      "cell_type": "code",
      "source": [
        "df_new.isnull().sum()"
      ],
      "metadata": {
        "colab": {
          "base_uri": "https://localhost:8080/"
        },
        "id": "K_CkZXfmZ0UE",
        "outputId": "7c90cf67-2777-4794-bf0e-250ea35059de"
      },
      "execution_count": null,
      "outputs": [
        {
          "output_type": "execute_result",
          "data": {
            "text/plain": [
              "Date         0\n",
              "Open         0\n",
              "High         0\n",
              "Low          0\n",
              "Close        0\n",
              "Adj Close    0\n",
              "Volume       0\n",
              "dtype: int64"
            ]
          },
          "metadata": {},
          "execution_count": 126
        }
      ]
    },
    {
      "cell_type": "code",
      "source": [
        "check_duplicates = df_new[df_new.duplicated()]\n",
        "print(check_duplicates)"
      ],
      "metadata": {
        "colab": {
          "base_uri": "https://localhost:8080/"
        },
        "id": "6i6Ya-PGaFy_",
        "outputId": "2593a0d5-b5b3-400a-de79-3368e8e94e7e"
      },
      "execution_count": null,
      "outputs": [
        {
          "output_type": "stream",
          "name": "stdout",
          "text": [
            "Empty DataFrame\n",
            "Columns: [Date, Open, High, Low, Close, Adj Close, Volume]\n",
            "Index: []\n"
          ]
        }
      ]
    },
    {
      "cell_type": "code",
      "source": [
        "df_new_dropped = df_new.drop(['Volume'], axis=1)"
      ],
      "metadata": {
        "id": "J3T6r3zCaKGN"
      },
      "execution_count": null,
      "outputs": []
    },
    {
      "cell_type": "markdown",
      "source": [
        "Reduksi dimensi dengan PCA"
      ],
      "metadata": {
        "id": "D-oPAHgXO9GD"
      }
    },
    {
      "cell_type": "code",
      "source": [
        "from sklearn.decomposition import PCA\n",
        "pca = PCA(n_components=1, random_state=123)\n",
        "pca.fit(df_new_dropped[['Low', 'Open','High','Close', 'Adj Close']])\n",
        "\n",
        "df_new_dropped['dimension'] = pca.transform(df_new_dropped.loc[:, ('Low', 'Open','High','Close', 'Adj Close')]).flatten()\n",
        "df_new_dropped.drop(['Low', 'Open','High','Close', 'Adj Close'], axis=1, inplace=True)\n",
        "\n",
        "df_new_dropped"
      ],
      "metadata": {
        "colab": {
          "base_uri": "https://localhost:8080/",
          "height": 424
        },
        "id": "ADYC8VteaL5c",
        "outputId": "cb003659-bad3-49fd-9552-a8e6532b9408"
      },
      "execution_count": null,
      "outputs": [
        {
          "output_type": "execute_result",
          "data": {
            "text/plain": [
              "           Date  dimension\n",
              "0    2011-12-15  57.904111\n",
              "1    2011-12-16  61.468551\n",
              "2    2011-12-19  62.094206\n",
              "3    2011-12-20  66.273817\n",
              "4    2011-12-21  66.351704\n",
              "...         ...        ...\n",
              "1713 2018-12-24 -16.670848\n",
              "1714 2018-12-26 -16.136585\n",
              "1715 2018-12-27 -15.136428\n",
              "1716 2018-12-28 -14.256552\n",
              "1717 2018-12-31 -13.876186\n",
              "\n",
              "[1718 rows x 2 columns]"
            ],
            "text/html": [
              "\n",
              "  <div id=\"df-9f878e8c-b5d8-429e-ad12-1495bc97fed2\">\n",
              "    <div class=\"colab-df-container\">\n",
              "      <div>\n",
              "<style scoped>\n",
              "    .dataframe tbody tr th:only-of-type {\n",
              "        vertical-align: middle;\n",
              "    }\n",
              "\n",
              "    .dataframe tbody tr th {\n",
              "        vertical-align: top;\n",
              "    }\n",
              "\n",
              "    .dataframe thead th {\n",
              "        text-align: right;\n",
              "    }\n",
              "</style>\n",
              "<table border=\"1\" class=\"dataframe\">\n",
              "  <thead>\n",
              "    <tr style=\"text-align: right;\">\n",
              "      <th></th>\n",
              "      <th>Date</th>\n",
              "      <th>dimension</th>\n",
              "    </tr>\n",
              "  </thead>\n",
              "  <tbody>\n",
              "    <tr>\n",
              "      <th>0</th>\n",
              "      <td>2011-12-15</td>\n",
              "      <td>57.904111</td>\n",
              "    </tr>\n",
              "    <tr>\n",
              "      <th>1</th>\n",
              "      <td>2011-12-16</td>\n",
              "      <td>61.468551</td>\n",
              "    </tr>\n",
              "    <tr>\n",
              "      <th>2</th>\n",
              "      <td>2011-12-19</td>\n",
              "      <td>62.094206</td>\n",
              "    </tr>\n",
              "    <tr>\n",
              "      <th>3</th>\n",
              "      <td>2011-12-20</td>\n",
              "      <td>66.273817</td>\n",
              "    </tr>\n",
              "    <tr>\n",
              "      <th>4</th>\n",
              "      <td>2011-12-21</td>\n",
              "      <td>66.351704</td>\n",
              "    </tr>\n",
              "    <tr>\n",
              "      <th>...</th>\n",
              "      <td>...</td>\n",
              "      <td>...</td>\n",
              "    </tr>\n",
              "    <tr>\n",
              "      <th>1713</th>\n",
              "      <td>2018-12-24</td>\n",
              "      <td>-16.670848</td>\n",
              "    </tr>\n",
              "    <tr>\n",
              "      <th>1714</th>\n",
              "      <td>2018-12-26</td>\n",
              "      <td>-16.136585</td>\n",
              "    </tr>\n",
              "    <tr>\n",
              "      <th>1715</th>\n",
              "      <td>2018-12-27</td>\n",
              "      <td>-15.136428</td>\n",
              "    </tr>\n",
              "    <tr>\n",
              "      <th>1716</th>\n",
              "      <td>2018-12-28</td>\n",
              "      <td>-14.256552</td>\n",
              "    </tr>\n",
              "    <tr>\n",
              "      <th>1717</th>\n",
              "      <td>2018-12-31</td>\n",
              "      <td>-13.876186</td>\n",
              "    </tr>\n",
              "  </tbody>\n",
              "</table>\n",
              "<p>1718 rows × 2 columns</p>\n",
              "</div>\n",
              "      <button class=\"colab-df-convert\" onclick=\"convertToInteractive('df-9f878e8c-b5d8-429e-ad12-1495bc97fed2')\"\n",
              "              title=\"Convert this dataframe to an interactive table.\"\n",
              "              style=\"display:none;\">\n",
              "        \n",
              "  <svg xmlns=\"http://www.w3.org/2000/svg\" height=\"24px\"viewBox=\"0 0 24 24\"\n",
              "       width=\"24px\">\n",
              "    <path d=\"M0 0h24v24H0V0z\" fill=\"none\"/>\n",
              "    <path d=\"M18.56 5.44l.94 2.06.94-2.06 2.06-.94-2.06-.94-.94-2.06-.94 2.06-2.06.94zm-11 1L8.5 8.5l.94-2.06 2.06-.94-2.06-.94L8.5 2.5l-.94 2.06-2.06.94zm10 10l.94 2.06.94-2.06 2.06-.94-2.06-.94-.94-2.06-.94 2.06-2.06.94z\"/><path d=\"M17.41 7.96l-1.37-1.37c-.4-.4-.92-.59-1.43-.59-.52 0-1.04.2-1.43.59L10.3 9.45l-7.72 7.72c-.78.78-.78 2.05 0 2.83L4 21.41c.39.39.9.59 1.41.59.51 0 1.02-.2 1.41-.59l7.78-7.78 2.81-2.81c.8-.78.8-2.07 0-2.86zM5.41 20L4 18.59l7.72-7.72 1.47 1.35L5.41 20z\"/>\n",
              "  </svg>\n",
              "      </button>\n",
              "      \n",
              "  <style>\n",
              "    .colab-df-container {\n",
              "      display:flex;\n",
              "      flex-wrap:wrap;\n",
              "      gap: 12px;\n",
              "    }\n",
              "\n",
              "    .colab-df-convert {\n",
              "      background-color: #E8F0FE;\n",
              "      border: none;\n",
              "      border-radius: 50%;\n",
              "      cursor: pointer;\n",
              "      display: none;\n",
              "      fill: #1967D2;\n",
              "      height: 32px;\n",
              "      padding: 0 0 0 0;\n",
              "      width: 32px;\n",
              "    }\n",
              "\n",
              "    .colab-df-convert:hover {\n",
              "      background-color: #E2EBFA;\n",
              "      box-shadow: 0px 1px 2px rgba(60, 64, 67, 0.3), 0px 1px 3px 1px rgba(60, 64, 67, 0.15);\n",
              "      fill: #174EA6;\n",
              "    }\n",
              "\n",
              "    [theme=dark] .colab-df-convert {\n",
              "      background-color: #3B4455;\n",
              "      fill: #D2E3FC;\n",
              "    }\n",
              "\n",
              "    [theme=dark] .colab-df-convert:hover {\n",
              "      background-color: #434B5C;\n",
              "      box-shadow: 0px 1px 3px 1px rgba(0, 0, 0, 0.15);\n",
              "      filter: drop-shadow(0px 1px 2px rgba(0, 0, 0, 0.3));\n",
              "      fill: #FFFFFF;\n",
              "    }\n",
              "  </style>\n",
              "\n",
              "      <script>\n",
              "        const buttonEl =\n",
              "          document.querySelector('#df-9f878e8c-b5d8-429e-ad12-1495bc97fed2 button.colab-df-convert');\n",
              "        buttonEl.style.display =\n",
              "          google.colab.kernel.accessAllowed ? 'block' : 'none';\n",
              "\n",
              "        async function convertToInteractive(key) {\n",
              "          const element = document.querySelector('#df-9f878e8c-b5d8-429e-ad12-1495bc97fed2');\n",
              "          const dataTable =\n",
              "            await google.colab.kernel.invokeFunction('convertToInteractive',\n",
              "                                                     [key], {});\n",
              "          if (!dataTable) return;\n",
              "\n",
              "          const docLinkHtml = 'Like what you see? Visit the ' +\n",
              "            '<a target=\"_blank\" href=https://colab.research.google.com/notebooks/data_table.ipynb>data table notebook</a>'\n",
              "            + ' to learn more about interactive tables.';\n",
              "          element.innerHTML = '';\n",
              "          dataTable['output_type'] = 'display_data';\n",
              "          await google.colab.output.renderOutput(dataTable, element);\n",
              "          const docLink = document.createElement('div');\n",
              "          docLink.innerHTML = docLinkHtml;\n",
              "          element.appendChild(docLink);\n",
              "        }\n",
              "      </script>\n",
              "    </div>\n",
              "  </div>\n",
              "  "
            ]
          },
          "metadata": {},
          "execution_count": 129
        }
      ]
    },
    {
      "cell_type": "markdown",
      "source": [
        "Rubah Kolom Date Menjadi index"
      ],
      "metadata": {
        "id": "edHjMi5YPHVh"
      }
    },
    {
      "cell_type": "code",
      "source": [
        "df_new_dropped.index = df_new_dropped['Date']\n",
        "df_new_dropped = df_new_dropped.drop(columns='Date')\n",
        "df_new_dropped"
      ],
      "metadata": {
        "colab": {
          "base_uri": "https://localhost:8080/",
          "height": 455
        },
        "id": "cBdh29V9aq3r",
        "outputId": "92bab704-cdc1-428e-d905-a822834ea00d"
      },
      "execution_count": null,
      "outputs": [
        {
          "output_type": "execute_result",
          "data": {
            "text/plain": [
              "            dimension\n",
              "Date                 \n",
              "2011-12-15  57.904111\n",
              "2011-12-16  61.468551\n",
              "2011-12-19  62.094206\n",
              "2011-12-20  66.273817\n",
              "2011-12-21  66.351704\n",
              "...               ...\n",
              "2018-12-24 -16.670848\n",
              "2018-12-26 -16.136585\n",
              "2018-12-27 -15.136428\n",
              "2018-12-28 -14.256552\n",
              "2018-12-31 -13.876186\n",
              "\n",
              "[1718 rows x 1 columns]"
            ],
            "text/html": [
              "\n",
              "  <div id=\"df-5e999ad0-c9d7-4473-8f6a-72e494e5da84\">\n",
              "    <div class=\"colab-df-container\">\n",
              "      <div>\n",
              "<style scoped>\n",
              "    .dataframe tbody tr th:only-of-type {\n",
              "        vertical-align: middle;\n",
              "    }\n",
              "\n",
              "    .dataframe tbody tr th {\n",
              "        vertical-align: top;\n",
              "    }\n",
              "\n",
              "    .dataframe thead th {\n",
              "        text-align: right;\n",
              "    }\n",
              "</style>\n",
              "<table border=\"1\" class=\"dataframe\">\n",
              "  <thead>\n",
              "    <tr style=\"text-align: right;\">\n",
              "      <th></th>\n",
              "      <th>dimension</th>\n",
              "    </tr>\n",
              "    <tr>\n",
              "      <th>Date</th>\n",
              "      <th></th>\n",
              "    </tr>\n",
              "  </thead>\n",
              "  <tbody>\n",
              "    <tr>\n",
              "      <th>2011-12-15</th>\n",
              "      <td>57.904111</td>\n",
              "    </tr>\n",
              "    <tr>\n",
              "      <th>2011-12-16</th>\n",
              "      <td>61.468551</td>\n",
              "    </tr>\n",
              "    <tr>\n",
              "      <th>2011-12-19</th>\n",
              "      <td>62.094206</td>\n",
              "    </tr>\n",
              "    <tr>\n",
              "      <th>2011-12-20</th>\n",
              "      <td>66.273817</td>\n",
              "    </tr>\n",
              "    <tr>\n",
              "      <th>2011-12-21</th>\n",
              "      <td>66.351704</td>\n",
              "    </tr>\n",
              "    <tr>\n",
              "      <th>...</th>\n",
              "      <td>...</td>\n",
              "    </tr>\n",
              "    <tr>\n",
              "      <th>2018-12-24</th>\n",
              "      <td>-16.670848</td>\n",
              "    </tr>\n",
              "    <tr>\n",
              "      <th>2018-12-26</th>\n",
              "      <td>-16.136585</td>\n",
              "    </tr>\n",
              "    <tr>\n",
              "      <th>2018-12-27</th>\n",
              "      <td>-15.136428</td>\n",
              "    </tr>\n",
              "    <tr>\n",
              "      <th>2018-12-28</th>\n",
              "      <td>-14.256552</td>\n",
              "    </tr>\n",
              "    <tr>\n",
              "      <th>2018-12-31</th>\n",
              "      <td>-13.876186</td>\n",
              "    </tr>\n",
              "  </tbody>\n",
              "</table>\n",
              "<p>1718 rows × 1 columns</p>\n",
              "</div>\n",
              "      <button class=\"colab-df-convert\" onclick=\"convertToInteractive('df-5e999ad0-c9d7-4473-8f6a-72e494e5da84')\"\n",
              "              title=\"Convert this dataframe to an interactive table.\"\n",
              "              style=\"display:none;\">\n",
              "        \n",
              "  <svg xmlns=\"http://www.w3.org/2000/svg\" height=\"24px\"viewBox=\"0 0 24 24\"\n",
              "       width=\"24px\">\n",
              "    <path d=\"M0 0h24v24H0V0z\" fill=\"none\"/>\n",
              "    <path d=\"M18.56 5.44l.94 2.06.94-2.06 2.06-.94-2.06-.94-.94-2.06-.94 2.06-2.06.94zm-11 1L8.5 8.5l.94-2.06 2.06-.94-2.06-.94L8.5 2.5l-.94 2.06-2.06.94zm10 10l.94 2.06.94-2.06 2.06-.94-2.06-.94-.94-2.06-.94 2.06-2.06.94z\"/><path d=\"M17.41 7.96l-1.37-1.37c-.4-.4-.92-.59-1.43-.59-.52 0-1.04.2-1.43.59L10.3 9.45l-7.72 7.72c-.78.78-.78 2.05 0 2.83L4 21.41c.39.39.9.59 1.41.59.51 0 1.02-.2 1.41-.59l7.78-7.78 2.81-2.81c.8-.78.8-2.07 0-2.86zM5.41 20L4 18.59l7.72-7.72 1.47 1.35L5.41 20z\"/>\n",
              "  </svg>\n",
              "      </button>\n",
              "      \n",
              "  <style>\n",
              "    .colab-df-container {\n",
              "      display:flex;\n",
              "      flex-wrap:wrap;\n",
              "      gap: 12px;\n",
              "    }\n",
              "\n",
              "    .colab-df-convert {\n",
              "      background-color: #E8F0FE;\n",
              "      border: none;\n",
              "      border-radius: 50%;\n",
              "      cursor: pointer;\n",
              "      display: none;\n",
              "      fill: #1967D2;\n",
              "      height: 32px;\n",
              "      padding: 0 0 0 0;\n",
              "      width: 32px;\n",
              "    }\n",
              "\n",
              "    .colab-df-convert:hover {\n",
              "      background-color: #E2EBFA;\n",
              "      box-shadow: 0px 1px 2px rgba(60, 64, 67, 0.3), 0px 1px 3px 1px rgba(60, 64, 67, 0.15);\n",
              "      fill: #174EA6;\n",
              "    }\n",
              "\n",
              "    [theme=dark] .colab-df-convert {\n",
              "      background-color: #3B4455;\n",
              "      fill: #D2E3FC;\n",
              "    }\n",
              "\n",
              "    [theme=dark] .colab-df-convert:hover {\n",
              "      background-color: #434B5C;\n",
              "      box-shadow: 0px 1px 3px 1px rgba(0, 0, 0, 0.15);\n",
              "      filter: drop-shadow(0px 1px 2px rgba(0, 0, 0, 0.3));\n",
              "      fill: #FFFFFF;\n",
              "    }\n",
              "  </style>\n",
              "\n",
              "      <script>\n",
              "        const buttonEl =\n",
              "          document.querySelector('#df-5e999ad0-c9d7-4473-8f6a-72e494e5da84 button.colab-df-convert');\n",
              "        buttonEl.style.display =\n",
              "          google.colab.kernel.accessAllowed ? 'block' : 'none';\n",
              "\n",
              "        async function convertToInteractive(key) {\n",
              "          const element = document.querySelector('#df-5e999ad0-c9d7-4473-8f6a-72e494e5da84');\n",
              "          const dataTable =\n",
              "            await google.colab.kernel.invokeFunction('convertToInteractive',\n",
              "                                                     [key], {});\n",
              "          if (!dataTable) return;\n",
              "\n",
              "          const docLinkHtml = 'Like what you see? Visit the ' +\n",
              "            '<a target=\"_blank\" href=https://colab.research.google.com/notebooks/data_table.ipynb>data table notebook</a>'\n",
              "            + ' to learn more about interactive tables.';\n",
              "          element.innerHTML = '';\n",
              "          dataTable['output_type'] = 'display_data';\n",
              "          await google.colab.output.renderOutput(dataTable, element);\n",
              "          const docLink = document.createElement('div');\n",
              "          docLink.innerHTML = docLinkHtml;\n",
              "          element.appendChild(docLink);\n",
              "        }\n",
              "      </script>\n",
              "    </div>\n",
              "  </div>\n",
              "  "
            ]
          },
          "metadata": {},
          "execution_count": 130
        }
      ]
    },
    {
      "cell_type": "markdown",
      "source": [
        "Bagi Dataset dengan skala 80:20"
      ],
      "metadata": {
        "id": "i8r6oT6cPKdA"
      }
    },
    {
      "cell_type": "code",
      "source": [
        "# Splitting dataset\n",
        "train_set = df_new_dropped[:int(len(df_new_dropped)*0.8) :]\n",
        "test_set = df_new_dropped[int(len(df_new_dropped)*0.8):len(df_new_dropped) :]"
      ],
      "metadata": {
        "id": "lYBKCgFHaxqr"
      },
      "execution_count": null,
      "outputs": []
    },
    {
      "cell_type": "code",
      "source": [
        "train_set"
      ],
      "metadata": {
        "colab": {
          "base_uri": "https://localhost:8080/",
          "height": 455
        },
        "id": "61NjEYAta_Es",
        "outputId": "cac35e7b-d063-47a0-feca-f9d85fe73cbe"
      },
      "execution_count": null,
      "outputs": [
        {
          "output_type": "execute_result",
          "data": {
            "text/plain": [
              "            dimension\n",
              "Date                 \n",
              "2011-12-15  57.904111\n",
              "2011-12-16  61.468551\n",
              "2011-12-19  62.094206\n",
              "2011-12-20  66.273817\n",
              "2011-12-21  66.351704\n",
              "...               ...\n",
              "2017-08-04 -17.023497\n",
              "2017-08-07 -17.409534\n",
              "2017-08-08 -16.888171\n",
              "2017-08-09 -13.705199\n",
              "2017-08-10 -11.461454\n",
              "\n",
              "[1374 rows x 1 columns]"
            ],
            "text/html": [
              "\n",
              "  <div id=\"df-3bc0d01f-7be3-4cdd-ab75-032ac4c2b098\">\n",
              "    <div class=\"colab-df-container\">\n",
              "      <div>\n",
              "<style scoped>\n",
              "    .dataframe tbody tr th:only-of-type {\n",
              "        vertical-align: middle;\n",
              "    }\n",
              "\n",
              "    .dataframe tbody tr th {\n",
              "        vertical-align: top;\n",
              "    }\n",
              "\n",
              "    .dataframe thead th {\n",
              "        text-align: right;\n",
              "    }\n",
              "</style>\n",
              "<table border=\"1\" class=\"dataframe\">\n",
              "  <thead>\n",
              "    <tr style=\"text-align: right;\">\n",
              "      <th></th>\n",
              "      <th>dimension</th>\n",
              "    </tr>\n",
              "    <tr>\n",
              "      <th>Date</th>\n",
              "      <th></th>\n",
              "    </tr>\n",
              "  </thead>\n",
              "  <tbody>\n",
              "    <tr>\n",
              "      <th>2011-12-15</th>\n",
              "      <td>57.904111</td>\n",
              "    </tr>\n",
              "    <tr>\n",
              "      <th>2011-12-16</th>\n",
              "      <td>61.468551</td>\n",
              "    </tr>\n",
              "    <tr>\n",
              "      <th>2011-12-19</th>\n",
              "      <td>62.094206</td>\n",
              "    </tr>\n",
              "    <tr>\n",
              "      <th>2011-12-20</th>\n",
              "      <td>66.273817</td>\n",
              "    </tr>\n",
              "    <tr>\n",
              "      <th>2011-12-21</th>\n",
              "      <td>66.351704</td>\n",
              "    </tr>\n",
              "    <tr>\n",
              "      <th>...</th>\n",
              "      <td>...</td>\n",
              "    </tr>\n",
              "    <tr>\n",
              "      <th>2017-08-04</th>\n",
              "      <td>-17.023497</td>\n",
              "    </tr>\n",
              "    <tr>\n",
              "      <th>2017-08-07</th>\n",
              "      <td>-17.409534</td>\n",
              "    </tr>\n",
              "    <tr>\n",
              "      <th>2017-08-08</th>\n",
              "      <td>-16.888171</td>\n",
              "    </tr>\n",
              "    <tr>\n",
              "      <th>2017-08-09</th>\n",
              "      <td>-13.705199</td>\n",
              "    </tr>\n",
              "    <tr>\n",
              "      <th>2017-08-10</th>\n",
              "      <td>-11.461454</td>\n",
              "    </tr>\n",
              "  </tbody>\n",
              "</table>\n",
              "<p>1374 rows × 1 columns</p>\n",
              "</div>\n",
              "      <button class=\"colab-df-convert\" onclick=\"convertToInteractive('df-3bc0d01f-7be3-4cdd-ab75-032ac4c2b098')\"\n",
              "              title=\"Convert this dataframe to an interactive table.\"\n",
              "              style=\"display:none;\">\n",
              "        \n",
              "  <svg xmlns=\"http://www.w3.org/2000/svg\" height=\"24px\"viewBox=\"0 0 24 24\"\n",
              "       width=\"24px\">\n",
              "    <path d=\"M0 0h24v24H0V0z\" fill=\"none\"/>\n",
              "    <path d=\"M18.56 5.44l.94 2.06.94-2.06 2.06-.94-2.06-.94-.94-2.06-.94 2.06-2.06.94zm-11 1L8.5 8.5l.94-2.06 2.06-.94-2.06-.94L8.5 2.5l-.94 2.06-2.06.94zm10 10l.94 2.06.94-2.06 2.06-.94-2.06-.94-.94-2.06-.94 2.06-2.06.94z\"/><path d=\"M17.41 7.96l-1.37-1.37c-.4-.4-.92-.59-1.43-.59-.52 0-1.04.2-1.43.59L10.3 9.45l-7.72 7.72c-.78.78-.78 2.05 0 2.83L4 21.41c.39.39.9.59 1.41.59.51 0 1.02-.2 1.41-.59l7.78-7.78 2.81-2.81c.8-.78.8-2.07 0-2.86zM5.41 20L4 18.59l7.72-7.72 1.47 1.35L5.41 20z\"/>\n",
              "  </svg>\n",
              "      </button>\n",
              "      \n",
              "  <style>\n",
              "    .colab-df-container {\n",
              "      display:flex;\n",
              "      flex-wrap:wrap;\n",
              "      gap: 12px;\n",
              "    }\n",
              "\n",
              "    .colab-df-convert {\n",
              "      background-color: #E8F0FE;\n",
              "      border: none;\n",
              "      border-radius: 50%;\n",
              "      cursor: pointer;\n",
              "      display: none;\n",
              "      fill: #1967D2;\n",
              "      height: 32px;\n",
              "      padding: 0 0 0 0;\n",
              "      width: 32px;\n",
              "    }\n",
              "\n",
              "    .colab-df-convert:hover {\n",
              "      background-color: #E2EBFA;\n",
              "      box-shadow: 0px 1px 2px rgba(60, 64, 67, 0.3), 0px 1px 3px 1px rgba(60, 64, 67, 0.15);\n",
              "      fill: #174EA6;\n",
              "    }\n",
              "\n",
              "    [theme=dark] .colab-df-convert {\n",
              "      background-color: #3B4455;\n",
              "      fill: #D2E3FC;\n",
              "    }\n",
              "\n",
              "    [theme=dark] .colab-df-convert:hover {\n",
              "      background-color: #434B5C;\n",
              "      box-shadow: 0px 1px 3px 1px rgba(0, 0, 0, 0.15);\n",
              "      filter: drop-shadow(0px 1px 2px rgba(0, 0, 0, 0.3));\n",
              "      fill: #FFFFFF;\n",
              "    }\n",
              "  </style>\n",
              "\n",
              "      <script>\n",
              "        const buttonEl =\n",
              "          document.querySelector('#df-3bc0d01f-7be3-4cdd-ab75-032ac4c2b098 button.colab-df-convert');\n",
              "        buttonEl.style.display =\n",
              "          google.colab.kernel.accessAllowed ? 'block' : 'none';\n",
              "\n",
              "        async function convertToInteractive(key) {\n",
              "          const element = document.querySelector('#df-3bc0d01f-7be3-4cdd-ab75-032ac4c2b098');\n",
              "          const dataTable =\n",
              "            await google.colab.kernel.invokeFunction('convertToInteractive',\n",
              "                                                     [key], {});\n",
              "          if (!dataTable) return;\n",
              "\n",
              "          const docLinkHtml = 'Like what you see? Visit the ' +\n",
              "            '<a target=\"_blank\" href=https://colab.research.google.com/notebooks/data_table.ipynb>data table notebook</a>'\n",
              "            + ' to learn more about interactive tables.';\n",
              "          element.innerHTML = '';\n",
              "          dataTable['output_type'] = 'display_data';\n",
              "          await google.colab.output.renderOutput(dataTable, element);\n",
              "          const docLink = document.createElement('div');\n",
              "          docLink.innerHTML = docLinkHtml;\n",
              "          element.appendChild(docLink);\n",
              "        }\n",
              "      </script>\n",
              "    </div>\n",
              "  </div>\n",
              "  "
            ]
          },
          "metadata": {},
          "execution_count": 132
        }
      ]
    },
    {
      "cell_type": "code",
      "source": [
        "test_set"
      ],
      "metadata": {
        "colab": {
          "base_uri": "https://localhost:8080/",
          "height": 455
        },
        "id": "Y4vRsNvUbGc6",
        "outputId": "b61b450d-790b-49ec-fcee-c942d5d3a60a"
      },
      "execution_count": null,
      "outputs": [
        {
          "output_type": "execute_result",
          "data": {
            "text/plain": [
              "            dimension\n",
              "Date                 \n",
              "2011-12-15  57.904111\n",
              "2011-12-16  61.468551\n",
              "2011-12-19  62.094206\n",
              "2011-12-20  66.273817\n",
              "2011-12-21  66.351704\n",
              "...               ...\n",
              "2017-08-04 -17.023497\n",
              "2017-08-07 -17.409534\n",
              "2017-08-08 -16.888171\n",
              "2017-08-09 -13.705199\n",
              "2017-08-10 -11.461454\n",
              "\n",
              "[1374 rows x 1 columns]"
            ],
            "text/html": [
              "\n",
              "  <div id=\"df-d2ac8c69-1156-45b5-9d7c-90a073bdbfef\">\n",
              "    <div class=\"colab-df-container\">\n",
              "      <div>\n",
              "<style scoped>\n",
              "    .dataframe tbody tr th:only-of-type {\n",
              "        vertical-align: middle;\n",
              "    }\n",
              "\n",
              "    .dataframe tbody tr th {\n",
              "        vertical-align: top;\n",
              "    }\n",
              "\n",
              "    .dataframe thead th {\n",
              "        text-align: right;\n",
              "    }\n",
              "</style>\n",
              "<table border=\"1\" class=\"dataframe\">\n",
              "  <thead>\n",
              "    <tr style=\"text-align: right;\">\n",
              "      <th></th>\n",
              "      <th>dimension</th>\n",
              "    </tr>\n",
              "    <tr>\n",
              "      <th>Date</th>\n",
              "      <th></th>\n",
              "    </tr>\n",
              "  </thead>\n",
              "  <tbody>\n",
              "    <tr>\n",
              "      <th>2011-12-15</th>\n",
              "      <td>57.904111</td>\n",
              "    </tr>\n",
              "    <tr>\n",
              "      <th>2011-12-16</th>\n",
              "      <td>61.468551</td>\n",
              "    </tr>\n",
              "    <tr>\n",
              "      <th>2011-12-19</th>\n",
              "      <td>62.094206</td>\n",
              "    </tr>\n",
              "    <tr>\n",
              "      <th>2011-12-20</th>\n",
              "      <td>66.273817</td>\n",
              "    </tr>\n",
              "    <tr>\n",
              "      <th>2011-12-21</th>\n",
              "      <td>66.351704</td>\n",
              "    </tr>\n",
              "    <tr>\n",
              "      <th>...</th>\n",
              "      <td>...</td>\n",
              "    </tr>\n",
              "    <tr>\n",
              "      <th>2017-08-04</th>\n",
              "      <td>-17.023497</td>\n",
              "    </tr>\n",
              "    <tr>\n",
              "      <th>2017-08-07</th>\n",
              "      <td>-17.409534</td>\n",
              "    </tr>\n",
              "    <tr>\n",
              "      <th>2017-08-08</th>\n",
              "      <td>-16.888171</td>\n",
              "    </tr>\n",
              "    <tr>\n",
              "      <th>2017-08-09</th>\n",
              "      <td>-13.705199</td>\n",
              "    </tr>\n",
              "    <tr>\n",
              "      <th>2017-08-10</th>\n",
              "      <td>-11.461454</td>\n",
              "    </tr>\n",
              "  </tbody>\n",
              "</table>\n",
              "<p>1374 rows × 1 columns</p>\n",
              "</div>\n",
              "      <button class=\"colab-df-convert\" onclick=\"convertToInteractive('df-d2ac8c69-1156-45b5-9d7c-90a073bdbfef')\"\n",
              "              title=\"Convert this dataframe to an interactive table.\"\n",
              "              style=\"display:none;\">\n",
              "        \n",
              "  <svg xmlns=\"http://www.w3.org/2000/svg\" height=\"24px\"viewBox=\"0 0 24 24\"\n",
              "       width=\"24px\">\n",
              "    <path d=\"M0 0h24v24H0V0z\" fill=\"none\"/>\n",
              "    <path d=\"M18.56 5.44l.94 2.06.94-2.06 2.06-.94-2.06-.94-.94-2.06-.94 2.06-2.06.94zm-11 1L8.5 8.5l.94-2.06 2.06-.94-2.06-.94L8.5 2.5l-.94 2.06-2.06.94zm10 10l.94 2.06.94-2.06 2.06-.94-2.06-.94-.94-2.06-.94 2.06-2.06.94z\"/><path d=\"M17.41 7.96l-1.37-1.37c-.4-.4-.92-.59-1.43-.59-.52 0-1.04.2-1.43.59L10.3 9.45l-7.72 7.72c-.78.78-.78 2.05 0 2.83L4 21.41c.39.39.9.59 1.41.59.51 0 1.02-.2 1.41-.59l7.78-7.78 2.81-2.81c.8-.78.8-2.07 0-2.86zM5.41 20L4 18.59l7.72-7.72 1.47 1.35L5.41 20z\"/>\n",
              "  </svg>\n",
              "      </button>\n",
              "      \n",
              "  <style>\n",
              "    .colab-df-container {\n",
              "      display:flex;\n",
              "      flex-wrap:wrap;\n",
              "      gap: 12px;\n",
              "    }\n",
              "\n",
              "    .colab-df-convert {\n",
              "      background-color: #E8F0FE;\n",
              "      border: none;\n",
              "      border-radius: 50%;\n",
              "      cursor: pointer;\n",
              "      display: none;\n",
              "      fill: #1967D2;\n",
              "      height: 32px;\n",
              "      padding: 0 0 0 0;\n",
              "      width: 32px;\n",
              "    }\n",
              "\n",
              "    .colab-df-convert:hover {\n",
              "      background-color: #E2EBFA;\n",
              "      box-shadow: 0px 1px 2px rgba(60, 64, 67, 0.3), 0px 1px 3px 1px rgba(60, 64, 67, 0.15);\n",
              "      fill: #174EA6;\n",
              "    }\n",
              "\n",
              "    [theme=dark] .colab-df-convert {\n",
              "      background-color: #3B4455;\n",
              "      fill: #D2E3FC;\n",
              "    }\n",
              "\n",
              "    [theme=dark] .colab-df-convert:hover {\n",
              "      background-color: #434B5C;\n",
              "      box-shadow: 0px 1px 3px 1px rgba(0, 0, 0, 0.15);\n",
              "      filter: drop-shadow(0px 1px 2px rgba(0, 0, 0, 0.3));\n",
              "      fill: #FFFFFF;\n",
              "    }\n",
              "  </style>\n",
              "\n",
              "      <script>\n",
              "        const buttonEl =\n",
              "          document.querySelector('#df-d2ac8c69-1156-45b5-9d7c-90a073bdbfef button.colab-df-convert');\n",
              "        buttonEl.style.display =\n",
              "          google.colab.kernel.accessAllowed ? 'block' : 'none';\n",
              "\n",
              "        async function convertToInteractive(key) {\n",
              "          const element = document.querySelector('#df-d2ac8c69-1156-45b5-9d7c-90a073bdbfef');\n",
              "          const dataTable =\n",
              "            await google.colab.kernel.invokeFunction('convertToInteractive',\n",
              "                                                     [key], {});\n",
              "          if (!dataTable) return;\n",
              "\n",
              "          const docLinkHtml = 'Like what you see? Visit the ' +\n",
              "            '<a target=\"_blank\" href=https://colab.research.google.com/notebooks/data_table.ipynb>data table notebook</a>'\n",
              "            + ' to learn more about interactive tables.';\n",
              "          element.innerHTML = '';\n",
              "          dataTable['output_type'] = 'display_data';\n",
              "          await google.colab.output.renderOutput(dataTable, element);\n",
              "          const docLink = document.createElement('div');\n",
              "          docLink.innerHTML = docLinkHtml;\n",
              "          element.appendChild(docLink);\n",
              "        }\n",
              "      </script>\n",
              "    </div>\n",
              "  </div>\n",
              "  "
            ]
          },
          "metadata": {},
          "execution_count": 133
        }
      ]
    },
    {
      "cell_type": "code",
      "source": [
        "def dataset_preparation(dataset, window):\n",
        "    dframe = []\n",
        "    label = []\n",
        "\n",
        "    for i in range(len(dataset) - window - 1):\n",
        "        data = dataset[i:(i + window), 0]\n",
        "        dframe.append(data)\n",
        "        label.append(dataset[i+window,0])\n",
        "    return np.array(dframe), np.array(label)"
      ],
      "metadata": {
        "id": "Pembm0vDbJou"
      },
      "execution_count": null,
      "outputs": []
    },
    {
      "cell_type": "markdown",
      "source": [
        "Proses MinMax Scaling"
      ],
      "metadata": {
        "id": "AQHYdd9iPRxf"
      }
    },
    {
      "cell_type": "code",
      "source": [
        "\n",
        "minmax_scaler = MinMaxScaler()\n",
        "scaled_train_set = minmax_scaler.fit_transform(train_set)\n",
        "scaled_test_set = minmax_scaler.fit_transform(test_set)"
      ],
      "metadata": {
        "id": "qj-dz4vabMcv"
      },
      "execution_count": null,
      "outputs": []
    },
    {
      "cell_type": "markdown",
      "source": [
        "Menyiapkan himpunan data dengan ukuran jendela yang ditentukan"
      ],
      "metadata": {
        "id": "Jv8DpJMKPVt2"
      }
    },
    {
      "cell_type": "code",
      "source": [
        "\n",
        "x_train, y_train = dataset_preparation(scaled_train_set,80)\n",
        "x_test, y_test = dataset_preparation(scaled_test_set,80)"
      ],
      "metadata": {
        "id": "EzM1gaKtbeJq"
      },
      "execution_count": null,
      "outputs": []
    },
    {
      "cell_type": "markdown",
      "source": [
        "Rubah ulang _shape_ dataset"
      ],
      "metadata": {
        "id": "KYCrBDmxPdOk"
      }
    },
    {
      "cell_type": "code",
      "source": [
        "x_train = np.reshape(x_train, (x_train.shape[0], x_train.shape[1],1))\n",
        "x_test = np.reshape(x_test, (x_test.shape[0], x_train.shape[1],1))"
      ],
      "metadata": {
        "id": "GPf2UW3ibhZH"
      },
      "execution_count": null,
      "outputs": []
    },
    {
      "cell_type": "code",
      "source": [
        "print(\"\\n----MinMax Scaled Data----\")\n",
        "print(\"All data : {}\".format(len(scaled_train_set)))  \n",
        "\n",
        "print(\"\\n----Splitted Data----\")\n",
        "print(\"Train Set shapes : {} {}\".format(x_train.shape, y_train.shape))\n",
        "print(\"Test Set shapes : {} {}\".format(x_test.shape, y_test.shape))\n"
      ],
      "metadata": {
        "colab": {
          "base_uri": "https://localhost:8080/"
        },
        "id": "RzCbzVf4bl3s",
        "outputId": "83d74615-e90e-4283-b39d-8210a9385424"
      },
      "execution_count": null,
      "outputs": [
        {
          "output_type": "stream",
          "name": "stdout",
          "text": [
            "\n",
            "----MinMax Scaled Data----\n",
            "All data : 1374\n",
            "\n",
            "----Splitted Data----\n",
            "Train Set shapes : (1293, 80, 1) (1293,)\n",
            "Test Set shapes : (263, 80, 1) (263,)\n"
          ]
        }
      ]
    },
    {
      "cell_type": "markdown",
      "source": [
        "# Arsitektur Model"
      ],
      "metadata": {
        "id": "C-OWlYTrs1Hf"
      }
    },
    {
      "cell_type": "markdown",
      "source": [
        "Susun Arsitektur Model\n",
        "* LTSM sebagai input layer\n",
        "* Dropout sebagai hidden layer\n",
        "* Dense sebagai output layer"
      ],
      "metadata": {
        "id": "sULVD3bNPm17"
      }
    },
    {
      "cell_type": "code",
      "source": [
        "model = Sequential([\n",
        "  LSTM(60),\n",
        "  Dropout(0.5),\n",
        "  Dense(32),\n",
        "  Dense(1),\n",
        "])"
      ],
      "metadata": {
        "id": "zxhLLFWkdere"
      },
      "execution_count": null,
      "outputs": []
    },
    {
      "cell_type": "markdown",
      "source": [
        "Tentukan Algoritma Optimasi dan parameter yang ingin digunakan\n",
        "dan kompilasi model dengan menggunakan metriks MAE dan _function loss_ MSE"
      ],
      "metadata": {
        "id": "9iP2B5utPrCs"
      }
    },
    {
      "cell_type": "code",
      "source": [
        "# Setting optimizer Adam Optimizer and learning rate\n",
        "optimizer = Adam(learning_rate=0.01)\n",
        "\n",
        "# Compile model with Huber and MAE (Mean Absolute Error) metrics\n",
        "model.compile(\n",
        "    metrics=[\"mae\"],\n",
        "    optimizer=optimizer,\n",
        "    loss='mean_squared_error')"
      ],
      "metadata": {
        "id": "1WT6okEpgnpi"
      },
      "execution_count": null,
      "outputs": []
    },
    {
      "cell_type": "markdown",
      "source": [
        "# Model Training"
      ],
      "metadata": {
        "id": "CFBhvZabs55L"
      }
    },
    {
      "cell_type": "markdown",
      "source": [
        "Inisialasi Callback dengan menggunakan EarlyStopping\n",
        "\n",
        "proses training akan berhenti ketika hasil metriks yang dimonitor tidak berkembang selama 5 epoch"
      ],
      "metadata": {
        "id": "wZpGelxYPyh4"
      }
    },
    {
      "cell_type": "code",
      "source": [
        "callbacks = EarlyStopping(\n",
        "    min_delta=0.001,\n",
        "    patience=5,\n",
        "    restore_best_weights=True,\n",
        ")"
      ],
      "metadata": {
        "id": "iFvRryF3enlA"
      },
      "execution_count": null,
      "outputs": []
    },
    {
      "cell_type": "code",
      "source": [
        "# Mae = (train_set['dimension'].max() - train_set['dimension'].min()) * (1/100)\n",
        "# Mae = round(Mae,2)\n",
        "# print(Mae)\n",
        "# class myCallback(tf.keras.callbacks.Callback):\n",
        "#   def on_epoch_end(self, epoch, logs={}):\n",
        "#     if(logs.get('mae')<Mae and logs.get('val_mae')<Mae):\n",
        "#       print(\"\\nMAE dari model < 1% skala data : \", )\n",
        "# callbacks_mae = myCallback()"
      ],
      "metadata": {
        "id": "eZPrrF_iomg1"
      },
      "execution_count": null,
      "outputs": []
    },
    {
      "cell_type": "markdown",
      "source": [
        "Latih Model dan simpan kedalam variabel `history`"
      ],
      "metadata": {
        "id": "wzrNd23FQkY8"
      }
    },
    {
      "cell_type": "code",
      "source": [
        "# Training Model and save it to history variable.\n",
        "history = model.fit(x_train,\n",
        "                    y_train,\n",
        "                    epochs=30,\n",
        "                    validation_data=(x_test, y_test),\n",
        "                    callbacks=[callbacks])"
      ],
      "metadata": {
        "colab": {
          "base_uri": "https://localhost:8080/"
        },
        "id": "w3Kp_qo8gtB9",
        "outputId": "9d64fdcb-eec2-47ec-91ab-ece771997f5c"
      },
      "execution_count": null,
      "outputs": [
        {
          "output_type": "stream",
          "name": "stdout",
          "text": [
            "Epoch 1/30\n",
            "41/41 [==============================] - 5s 57ms/step - loss: 0.0169 - mae: 0.0837 - val_loss: 0.0033 - val_mae: 0.0456\n",
            "Epoch 2/30\n",
            "41/41 [==============================] - 2s 43ms/step - loss: 0.0028 - mae: 0.0375 - val_loss: 0.0026 - val_mae: 0.0400\n",
            "Epoch 3/30\n",
            "41/41 [==============================] - 2s 42ms/step - loss: 0.0024 - mae: 0.0356 - val_loss: 0.0027 - val_mae: 0.0403\n",
            "Epoch 4/30\n",
            "41/41 [==============================] - 3s 63ms/step - loss: 0.0027 - mae: 0.0383 - val_loss: 0.0026 - val_mae: 0.0402\n",
            "Epoch 5/30\n",
            "41/41 [==============================] - 2s 42ms/step - loss: 0.0025 - mae: 0.0363 - val_loss: 0.0034 - val_mae: 0.0459\n",
            "Epoch 6/30\n",
            "41/41 [==============================] - 2s 42ms/step - loss: 0.0019 - mae: 0.0316 - val_loss: 0.0026 - val_mae: 0.0402\n"
          ]
        }
      ]
    },
    {
      "cell_type": "markdown",
      "source": [
        "# Model Evaluation"
      ],
      "metadata": {
        "id": "npS8hbZ6tCXI"
      }
    },
    {
      "cell_type": "markdown",
      "source": [
        "Tampilkan grafik yang menunjukan hasil pelatihan testing dan trainin untuk value dan loss value"
      ],
      "metadata": {
        "id": "hj1In7C1QpJo"
      }
    },
    {
      "cell_type": "code",
      "source": [
        "# Create plot for mae and val_mae\n",
        "figure, axes = plt.subplots(nrows=2, ncols=2)\n",
        "figure.tight_layout(pad=3.0)\n",
        "\n",
        "plt.subplot(1, 2, 1)\n",
        "plt.plot(history.history['mae'])\n",
        "plt.plot(history.history['val_mae'], 'r')\n",
        "plt.title('Training and Testing MAE Value')\n",
        "plt.xlabel('epoch')\n",
        "plt.legend(['Training MAE', 'Testing MAE'], loc='upper right')\n",
        "\n",
        "# Create plot for loss and val_loss\n",
        "plt.subplot(1, 2, 2)\n",
        "plt.plot(history.history['loss'])\n",
        "plt.plot(history.history['val_loss'])\n",
        "plt.title('Training and Testing Loss Value')\n",
        "plt.xlabel('epoch')\n",
        "plt.legend(['Training Loss', 'Testing Loss'], loc='upper right')\n",
        "\n",
        "plt.show()"
      ],
      "metadata": {
        "colab": {
          "base_uri": "https://localhost:8080/",
          "height": 285
        },
        "id": "7Lwxw7tKg03K",
        "outputId": "9e0b3068-00d8-4013-fb9e-61dcc6a497a7"
      },
      "execution_count": null,
      "outputs": [
        {
          "output_type": "display_data",
          "data": {
            "text/plain": [
              "<Figure size 432x288 with 2 Axes>"
            ],
            "image/png": "[encoded data removed]"
          },
          "metadata": {
            "needs_background": "light"
          }
        }
      ]
    },
    {
      "cell_type": "markdown",
      "source": [
        "# Model Prediction"
      ],
      "metadata": {
        "id": "Kx5WyPNTtNqe"
      }
    },
    {
      "cell_type": "markdown",
      "source": [
        "Buat dataframe baru untuk menyimpan  _actual value_ dan _prediction_, lalu tambahkan kolom `'Date'` dari variable df. Setelah semua kolom mempunyai data, kita dapat melihat harga asli dan prediksi harga dari data training yang telah dijalankan"
      ],
      "metadata": {
        "id": "YkwLmPozQ9kZ"
      }
    },
    {
      "cell_type": "code",
      "source": [
        "predict_test = model.predict(x_test)\n",
        "predict_test = minmax_scaler.inverse_transform(predict_test)\n",
        "actual_test = minmax_scaler.inverse_transform([y_test])"
      ],
      "metadata": {
        "id": "uNJlcPqFiIY_"
      },
      "execution_count": null,
      "outputs": []
    },
    {
      "cell_type": "code",
      "source": [
        "data_predict_and_actual = {'actual_value':actual_test[0], 'prediction_value' : predict_test[:,0]}\n",
        "\n",
        "df_predict = pd.DataFrame(data_predict_and_actual)\n",
        "df_predict['Date'] = df['Date'][:len(df_predict['actual_value'])]"
      ],
      "metadata": {
        "id": "HZyInCQiiViQ"
      },
      "execution_count": null,
      "outputs": []
    },
    {
      "cell_type": "code",
      "source": [
        "df_predict.plot(x=\"Date\" )\n",
        "plt.ylabel('Harga Emas', size=12)\n",
        "\n",
        "plt.xlabel('Date', size=12)\n",
        "plt.xticks(rotation=30)\n",
        "\n",
        "plt.legend([\"Actual\", \"Prediction\"], fontsize=15, loc='lower left')\n",
        "plt.show();"
      ],
      "metadata": {
        "colab": {
          "base_uri": "https://localhost:8080/",
          "height": 314
        },
        "id": "UQbsWxdYiZ_o",
        "outputId": "6339b007-d0ad-4af3-b310-ba9f0ca57551"
      },
      "execution_count": null,
      "outputs": [
        {
          "output_type": "display_data",
          "data": {
            "text/plain": [
              "<Figure size 432x288 with 1 Axes>"
            ],
            "image/png": "[encoded data removed]"
          },
          "metadata": {
            "needs_background": "light"
          }
        }
      ]
    }
  ]
}